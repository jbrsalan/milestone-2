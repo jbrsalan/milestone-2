{
 "cells": [
  {
   "cell_type": "markdown",
   "metadata": {},
   "source": [
    "# 1 PERKENALAN"
   ]
  },
  {
   "cell_type": "markdown",
   "metadata": {},
   "source": [
    "= ================================================\n",
    "\n",
    "Milestone 2<br>\n",
    "Nama  : Muhammad Jabaris Maulana<br>\n",
    "Batch : HCK-024<br>\n",
    "Program ini dibuat untuk membuat prediksi harga sewa apartemen berdasarkan beberapa variabel.\n",
    "\n",
    "= ================================================"
   ]
  },
  {
   "cell_type": "markdown",
   "metadata": {},
   "source": [
    "Link Hugging Face https://huggingface.co/spaces/jbrsalan/Apartment_Price_Prediction?logs=container"
   ]
  },
  {
   "cell_type": "markdown",
   "metadata": {},
   "source": [
    "Conceptual Problems\n",
    "Jawab pertanyaan berikut:\n",
    "\n",
    ">Jelaskan latar belakang adanya bagging dan cara kerja bagging!<br>\n",
    "\n",
    "Bagging adalah salah satu ensamble learning yang memiliki proses melatih model secara independen pada subset berbeda dari dataset yang sama. Hasil prediksi dari masing-masing model yang dilatih akan digabungkan untuk dilakukan voting (klasifikasi) atau averaging (regresi). Hasil dari voting/averaging yang akan diambil sebagai model terbaik. Contoh: RandomForest adalah ensamle learning di mana bagging dilakukan terhadap DecisionTree.\n",
    "\n",
    ">Jelaskan perbedaan cara kerja algoritma Random Forest dengan algoritma boosting yang Anda pilih!<br>\n",
    "\n",
    "RandomForest bekerja dengan menjalankan sejumlah DecisionTree secara independen di waktu bersamaan (bagging). Sedangkan XGBoost merupakan ensamble learning jenis boosting di mana model ini menjalankan sejumlah DecisionTree secara berurutan dan pohon selanjutnya dibuat berdasarkan data yang sebelumnya sulit diprediksi dengan tujuan mengurangi kesalahan regresi/klasifikasi.\n",
    "\n",
    ">Jelaskan apa yang dimaksud dengan Cross Validation!<br>\n",
    "\n",
    "Cross Validation adalah teknik untuk mengevaluasi kinerja model dengan membagi dataset menjadi beberapa bagian (fold). Tujuannya agar model dapat dilatih dengan variasi data berbeda (dari dataset yang sama) sehingga dapat dianggap berlatih berkali-kali untuk mengurangi overfit. Cross validation menghasilkan skor berjumlah sama dengan jumlah fold."
   ]
  },
  {
   "cell_type": "markdown",
   "metadata": {},
   "source": [
    "# 2 IMPORT LIBRARIES"
   ]
  },
  {
   "cell_type": "code",
   "execution_count": 1,
   "metadata": {},
   "outputs": [],
   "source": [
    "# import libraries yang akan digunakan\n",
    "import pandas as pd\n",
    "import numpy as np\n",
    "\n",
    "import seaborn as sns\n",
    "import matplotlib.pyplot as plt\n",
    "\n",
    "from sklearn.model_selection import train_test_split\n",
    "from scipy.stats import spearmanr, pearsonr, f_oneway\n",
    "\n",
    "from sklearn.preprocessing import RobustScaler, OneHotEncoder\n",
    "from sklearn.compose import ColumnTransformer\n",
    "\n",
    "from sklearn.neighbors import KNeighborsRegressor\n",
    "from sklearn.svm import SVR\n",
    "from sklearn.tree import DecisionTreeRegressor\n",
    "from sklearn.ensemble import RandomForestRegressor\n",
    "import xgboost as xgb\n",
    "\n",
    "from sklearn.pipeline import Pipeline\n",
    "from sklearn.model_selection import cross_val_score,RandomizedSearchCV\n",
    "\n",
    "from sklearn.metrics import mean_absolute_error, mean_absolute_percentage_error\n",
    "\n",
    "import pickle\n",
    "\n",
    "import warnings\n",
    "warnings.filterwarnings('ignore') # mematikan warning yang tidak perlu ditampilkan"
   ]
  },
  {
   "cell_type": "markdown",
   "metadata": {},
   "source": [
    "# 3 DATA LOADING"
   ]
  },
  {
   "cell_type": "markdown",
   "metadata": {},
   "source": [
    ">Data yang digunakan merupakan data harga sewa apartemen dengan informasi-informasi pendukungnya seperti jumlah kamar, lokasi dan lain-lain. Data didapat dari link berikut:<br>\n",
    "https://archive.ics.uci.edu/dataset/555/apartment+for+rent+classified\n",
    "\n",
    "Dari data tersebut akan dilakukan pelatihan model untuk melakukan prediksi terhadap harga sewa (target) berdasarkan fitur-fitur yang tersedia."
   ]
  },
  {
   "cell_type": "code",
   "execution_count": 2,
   "metadata": {},
   "outputs": [
    {
     "data": {
      "text/html": [
       "<div>\n",
       "<style scoped>\n",
       "    .dataframe tbody tr th:only-of-type {\n",
       "        vertical-align: middle;\n",
       "    }\n",
       "\n",
       "    .dataframe tbody tr th {\n",
       "        vertical-align: top;\n",
       "    }\n",
       "\n",
       "    .dataframe thead th {\n",
       "        text-align: right;\n",
       "    }\n",
       "</style>\n",
       "<table border=\"1\" class=\"dataframe\">\n",
       "  <thead>\n",
       "    <tr style=\"text-align: right;\">\n",
       "      <th></th>\n",
       "      <th>id</th>\n",
       "      <th>category</th>\n",
       "      <th>title</th>\n",
       "      <th>body</th>\n",
       "      <th>amenities</th>\n",
       "      <th>bathrooms</th>\n",
       "      <th>bedrooms</th>\n",
       "      <th>currency</th>\n",
       "      <th>fee</th>\n",
       "      <th>has_photo</th>\n",
       "      <th>...</th>\n",
       "      <th>price_display</th>\n",
       "      <th>price_type</th>\n",
       "      <th>square_feet</th>\n",
       "      <th>address</th>\n",
       "      <th>cityname</th>\n",
       "      <th>state</th>\n",
       "      <th>latitude</th>\n",
       "      <th>longitude</th>\n",
       "      <th>source</th>\n",
       "      <th>time</th>\n",
       "    </tr>\n",
       "  </thead>\n",
       "  <tbody>\n",
       "    <tr>\n",
       "      <th>0</th>\n",
       "      <td>5668626895</td>\n",
       "      <td>housing/rent/apartment</td>\n",
       "      <td>Studio apartment 2nd St NE, Uhland Terrace NE,...</td>\n",
       "      <td>This unit is located at second St NE, Uhland T...</td>\n",
       "      <td>NaN</td>\n",
       "      <td>NaN</td>\n",
       "      <td>0.0</td>\n",
       "      <td>USD</td>\n",
       "      <td>No</td>\n",
       "      <td>Thumbnail</td>\n",
       "      <td>...</td>\n",
       "      <td>$790</td>\n",
       "      <td>Monthly</td>\n",
       "      <td>101</td>\n",
       "      <td>NaN</td>\n",
       "      <td>Washington</td>\n",
       "      <td>DC</td>\n",
       "      <td>38.9057</td>\n",
       "      <td>-76.9861</td>\n",
       "      <td>RentLingo</td>\n",
       "      <td>1577359415</td>\n",
       "    </tr>\n",
       "    <tr>\n",
       "      <th>1</th>\n",
       "      <td>5664597177</td>\n",
       "      <td>housing/rent/apartment</td>\n",
       "      <td>Studio apartment 814 Schutte Road</td>\n",
       "      <td>This unit is located at 814 Schutte Road, Evan...</td>\n",
       "      <td>NaN</td>\n",
       "      <td>NaN</td>\n",
       "      <td>1.0</td>\n",
       "      <td>USD</td>\n",
       "      <td>No</td>\n",
       "      <td>Thumbnail</td>\n",
       "      <td>...</td>\n",
       "      <td>$425</td>\n",
       "      <td>Monthly</td>\n",
       "      <td>106</td>\n",
       "      <td>814 Schutte Rd</td>\n",
       "      <td>Evansville</td>\n",
       "      <td>IN</td>\n",
       "      <td>37.9680</td>\n",
       "      <td>-87.6621</td>\n",
       "      <td>RentLingo</td>\n",
       "      <td>1577017063</td>\n",
       "    </tr>\n",
       "    <tr>\n",
       "      <th>2</th>\n",
       "      <td>5668626833</td>\n",
       "      <td>housing/rent/apartment</td>\n",
       "      <td>Studio apartment N Scott St, 14th St N, Arling...</td>\n",
       "      <td>This unit is located at N Scott St, 14th St N,...</td>\n",
       "      <td>NaN</td>\n",
       "      <td>1.0</td>\n",
       "      <td>0.0</td>\n",
       "      <td>USD</td>\n",
       "      <td>No</td>\n",
       "      <td>Thumbnail</td>\n",
       "      <td>...</td>\n",
       "      <td>$1,390</td>\n",
       "      <td>Monthly</td>\n",
       "      <td>107</td>\n",
       "      <td>NaN</td>\n",
       "      <td>Arlington</td>\n",
       "      <td>VA</td>\n",
       "      <td>38.8910</td>\n",
       "      <td>-77.0816</td>\n",
       "      <td>RentLingo</td>\n",
       "      <td>1577359410</td>\n",
       "    </tr>\n",
       "    <tr>\n",
       "      <th>3</th>\n",
       "      <td>5659918074</td>\n",
       "      <td>housing/rent/apartment</td>\n",
       "      <td>Studio apartment 1717 12th Ave</td>\n",
       "      <td>This unit is located at 1717 12th Ave, Seattle...</td>\n",
       "      <td>NaN</td>\n",
       "      <td>1.0</td>\n",
       "      <td>0.0</td>\n",
       "      <td>USD</td>\n",
       "      <td>No</td>\n",
       "      <td>Thumbnail</td>\n",
       "      <td>...</td>\n",
       "      <td>$925</td>\n",
       "      <td>Monthly</td>\n",
       "      <td>116</td>\n",
       "      <td>1717 12th Avenue</td>\n",
       "      <td>Seattle</td>\n",
       "      <td>WA</td>\n",
       "      <td>47.6160</td>\n",
       "      <td>-122.3275</td>\n",
       "      <td>RentLingo</td>\n",
       "      <td>1576667743</td>\n",
       "    </tr>\n",
       "    <tr>\n",
       "      <th>4</th>\n",
       "      <td>5668626759</td>\n",
       "      <td>housing/rent/apartment</td>\n",
       "      <td>Studio apartment Washington Blvd, N Cleveland ...</td>\n",
       "      <td>This unit is located at Washington Blvd, N Cle...</td>\n",
       "      <td>NaN</td>\n",
       "      <td>NaN</td>\n",
       "      <td>0.0</td>\n",
       "      <td>USD</td>\n",
       "      <td>No</td>\n",
       "      <td>Thumbnail</td>\n",
       "      <td>...</td>\n",
       "      <td>$880</td>\n",
       "      <td>Monthly</td>\n",
       "      <td>125</td>\n",
       "      <td>NaN</td>\n",
       "      <td>Arlington</td>\n",
       "      <td>VA</td>\n",
       "      <td>38.8738</td>\n",
       "      <td>-77.1055</td>\n",
       "      <td>RentLingo</td>\n",
       "      <td>1577359401</td>\n",
       "    </tr>\n",
       "  </tbody>\n",
       "</table>\n",
       "<p>5 rows × 22 columns</p>\n",
       "</div>"
      ],
      "text/plain": [
       "           id                category  \\\n",
       "0  5668626895  housing/rent/apartment   \n",
       "1  5664597177  housing/rent/apartment   \n",
       "2  5668626833  housing/rent/apartment   \n",
       "3  5659918074  housing/rent/apartment   \n",
       "4  5668626759  housing/rent/apartment   \n",
       "\n",
       "                                               title  \\\n",
       "0  Studio apartment 2nd St NE, Uhland Terrace NE,...   \n",
       "1                  Studio apartment 814 Schutte Road   \n",
       "2  Studio apartment N Scott St, 14th St N, Arling...   \n",
       "3                     Studio apartment 1717 12th Ave   \n",
       "4  Studio apartment Washington Blvd, N Cleveland ...   \n",
       "\n",
       "                                                body amenities  bathrooms  \\\n",
       "0  This unit is located at second St NE, Uhland T...       NaN        NaN   \n",
       "1  This unit is located at 814 Schutte Road, Evan...       NaN        NaN   \n",
       "2  This unit is located at N Scott St, 14th St N,...       NaN        1.0   \n",
       "3  This unit is located at 1717 12th Ave, Seattle...       NaN        1.0   \n",
       "4  This unit is located at Washington Blvd, N Cle...       NaN        NaN   \n",
       "\n",
       "   bedrooms currency fee  has_photo  ... price_display  price_type  \\\n",
       "0       0.0      USD  No  Thumbnail  ...          $790     Monthly   \n",
       "1       1.0      USD  No  Thumbnail  ...          $425     Monthly   \n",
       "2       0.0      USD  No  Thumbnail  ...        $1,390     Monthly   \n",
       "3       0.0      USD  No  Thumbnail  ...          $925     Monthly   \n",
       "4       0.0      USD  No  Thumbnail  ...          $880     Monthly   \n",
       "\n",
       "  square_feet           address    cityname state latitude longitude  \\\n",
       "0         101               NaN  Washington    DC  38.9057  -76.9861   \n",
       "1         106    814 Schutte Rd  Evansville    IN  37.9680  -87.6621   \n",
       "2         107               NaN   Arlington    VA  38.8910  -77.0816   \n",
       "3         116  1717 12th Avenue     Seattle    WA  47.6160 -122.3275   \n",
       "4         125               NaN   Arlington    VA  38.8738  -77.1055   \n",
       "\n",
       "      source        time  \n",
       "0  RentLingo  1577359415  \n",
       "1  RentLingo  1577017063  \n",
       "2  RentLingo  1577359410  \n",
       "3  RentLingo  1576667743  \n",
       "4  RentLingo  1577359401  \n",
       "\n",
       "[5 rows x 22 columns]"
      ]
     },
     "execution_count": 2,
     "metadata": {},
     "output_type": "execute_result"
    }
   ],
   "source": [
    "# muat data menjadi dataframe\n",
    "raw = pd.read_csv('apartments_for_rent_classified_10K.csv', delimiter=';', encoding='latin1') # menggunakan encoding='latin1' karena terdapat karakter khusus pada data\n",
    "\n",
    "# tampilkan sample data\n",
    "raw.head()"
   ]
  },
  {
   "cell_type": "code",
   "execution_count": 3,
   "metadata": {},
   "outputs": [
    {
     "name": "stdout",
     "output_type": "stream",
     "text": [
      "<class 'pandas.core.frame.DataFrame'>\n",
      "RangeIndex: 10000 entries, 0 to 9999\n",
      "Data columns (total 22 columns):\n",
      " #   Column         Non-Null Count  Dtype  \n",
      "---  ------         --------------  -----  \n",
      " 0   id             10000 non-null  int64  \n",
      " 1   category       10000 non-null  object \n",
      " 2   title          10000 non-null  object \n",
      " 3   body           10000 non-null  object \n",
      " 4   amenities      6451 non-null   object \n",
      " 5   bathrooms      9966 non-null   float64\n",
      " 6   bedrooms       9993 non-null   float64\n",
      " 7   currency       10000 non-null  object \n",
      " 8   fee            10000 non-null  object \n",
      " 9   has_photo      10000 non-null  object \n",
      " 10  pets_allowed   5837 non-null   object \n",
      " 11  price          10000 non-null  int64  \n",
      " 12  price_display  10000 non-null  object \n",
      " 13  price_type     10000 non-null  object \n",
      " 14  square_feet    10000 non-null  int64  \n",
      " 15  address        6673 non-null   object \n",
      " 16  cityname       9923 non-null   object \n",
      " 17  state          9923 non-null   object \n",
      " 18  latitude       9990 non-null   float64\n",
      " 19  longitude      9990 non-null   float64\n",
      " 20  source         10000 non-null  object \n",
      " 21  time           10000 non-null  int64  \n",
      "dtypes: float64(4), int64(4), object(14)\n",
      "memory usage: 1.7+ MB\n"
     ]
    }
   ],
   "source": [
    "# tampilkan info dari data\n",
    "raw.info()"
   ]
  },
  {
   "cell_type": "markdown",
   "metadata": {},
   "source": [
    ">Data memiliki missing value, pada tahap awal ini akan dilakukan penentuan kolom mana saja yang bisa dihapus dan atau dihandle missing value nya berdasarkan analisa awal."
   ]
  },
  {
   "cell_type": "markdown",
   "metadata": {},
   "source": [
    "## Hapus Kolom yang Tidak Diperlukan"
   ]
  },
  {
   "cell_type": "markdown",
   "metadata": {},
   "source": [
    ">Dari semua kolom yang terdapat dalam data, di awal akan ditentukan kolom mana saja yang dirasa tidak diperlukan baik karena tidak memiliki pengaruh terhadap hasil pelatihan model ataupun dapat mempersulit kerja model untuk mempelajari data tersebut."
   ]
  },
  {
   "cell_type": "code",
   "execution_count": 4,
   "metadata": {},
   "outputs": [
    {
     "data": {
      "text/plain": [
       "category\n",
       "housing/rent/apartment     9996\n",
       "housing/rent/home             2\n",
       "housing/rent/short_term       2\n",
       "Name: count, dtype: int64"
      ]
     },
     "execution_count": 4,
     "metadata": {},
     "output_type": "execute_result"
    }
   ],
   "source": [
    "# cek jumlah masing-masing unique value dari kolom category\n",
    "raw['category'].value_counts()"
   ]
  },
  {
   "cell_type": "code",
   "execution_count": 5,
   "metadata": {},
   "outputs": [
    {
     "data": {
      "text/plain": [
       "2254"
      ]
     },
     "execution_count": 5,
     "metadata": {},
     "output_type": "execute_result"
    }
   ],
   "source": [
    "# cek jumlah unique value dari kolom amenities\n",
    "raw['amenities'].nunique()"
   ]
  },
  {
   "cell_type": "code",
   "execution_count": 6,
   "metadata": {},
   "outputs": [
    {
     "data": {
      "text/plain": [
       "price_type\n",
       "Monthly           9998\n",
       "Weekly               1\n",
       "Monthly|Weekly       1\n",
       "Name: count, dtype: int64"
      ]
     },
     "execution_count": 6,
     "metadata": {},
     "output_type": "execute_result"
    }
   ],
   "source": [
    "# cek jumlah masing-masing unique value dari kolom price_type\n",
    "raw['price_type'].value_counts()"
   ]
  },
  {
   "cell_type": "code",
   "execution_count": 7,
   "metadata": {},
   "outputs": [
    {
     "data": {
      "text/plain": [
       "1574"
      ]
     },
     "execution_count": 7,
     "metadata": {},
     "output_type": "execute_result"
    }
   ],
   "source": [
    "# cek unique value dari kolom cityname\n",
    "raw['cityname'].nunique()"
   ]
  },
  {
   "cell_type": "markdown",
   "metadata": {},
   "source": [
    ">Dalam data terdapat beberapa kolom yang tidak memiliki relevansi dengan analisis dan pembuatan model sehingga perlu dihapus yaitu:\n",
    "- `id`: tidak memiliki pengaruh terhadap harga sewa.\n",
    "- `category`: memiliki 3 unique value dengan hanya 1 unique value yang mendominasi, maka kolom akan dihapus setelah baris berisi unique value lainnya dihapus.\n",
    "- `title`: tidak memiliki pengaruh terhadap harga sewa.\n",
    "- `body`: tidak memiliki pengaruh terhadap harga sewa.\n",
    "- `amenities`: memiliki beberapa nilai di dalam 1 sel sehingga akan membuat model kesulitan mencapai goodfit.\n",
    "- `currency`: hanya memiliki 1 unique value (USD).\n",
    "- `fee`: hanya memiliki 1 unique value (No).\n",
    "- `price_display`: bernilai sama dengan kolom `price`.\n",
    "- `price_type`: memiliki 3 unique value dengan hanya 1 unique value yang mendominasi, maka akan dihapus setelah baris berisi unique value lainnya dihapus.\n",
    "- `address`: memiliki beberapa nilai di dalam 1 sel sehingga akan membuat model kesulitan mencapai goodfit dan sudah diwakili oleh kolom `cityname` dan atau `state`.\n",
    "- `cityname`: memiliki unique value berjumlah yang relatif sangat tinggi sehingga dapat menyulitkan model mencapai goodfit serta sudah diwakili oleh kolom `state`.\n",
    "- `source`: tidak memiliki pengaruh terhadap harga sewa.\n",
    "- `time`: tidak memiliki pengaruh terhadap harga sewa."
   ]
  },
  {
   "cell_type": "code",
   "execution_count": 8,
   "metadata": {},
   "outputs": [],
   "source": [
    "# hapus baris dengan price type Weekly dan Monthly|Weekly\n",
    "df = raw.drop(raw.index[raw['price_type'] == 'Weekly'])\n",
    "df.drop(df.index[df['price_type'] == 'Monthly|Weekly'], inplace = True)"
   ]
  },
  {
   "cell_type": "code",
   "execution_count": 9,
   "metadata": {},
   "outputs": [],
   "source": [
    "# hapus baris dengan category Weekly dan Monthly|Weekly\n",
    "df.drop(df.index[df['category'] == 'housing/rent/home'], inplace = True)\n",
    "df.drop(df.index[df['category'] == 'housing/rent/short_term'], inplace = True)"
   ]
  },
  {
   "cell_type": "code",
   "execution_count": 10,
   "metadata": {},
   "outputs": [],
   "source": [
    "# hapus semua kolom yang tidak lagi diperlukan\n",
    "drop_cols = ['id','category','title','body','amenities','currency','fee','price_display','price_type','address','cityname','source','time']\n",
    "df.drop(drop_cols, axis=1,inplace=True)"
   ]
  },
  {
   "cell_type": "markdown",
   "metadata": {},
   "source": [
    "## Pembersihan Awal Missing Value"
   ]
  },
  {
   "cell_type": "markdown",
   "metadata": {},
   "source": [
    ">Di tahap awal ini dapat dilakukan pembersihan missing value untuk menyiapkan ke tahap selanjutnya."
   ]
  },
  {
   "cell_type": "code",
   "execution_count": 11,
   "metadata": {},
   "outputs": [
    {
     "data": {
      "text/plain": [
       "bathrooms         32\n",
       "bedrooms           6\n",
       "has_photo          0\n",
       "pets_allowed    4160\n",
       "price              0\n",
       "square_feet        0\n",
       "state             77\n",
       "latitude          10\n",
       "longitude         10\n",
       "dtype: int64"
      ]
     },
     "execution_count": 11,
     "metadata": {},
     "output_type": "execute_result"
    }
   ],
   "source": [
    "# tampilkan jumlah missing value dari masing-masing kolom\n",
    "df.isna().sum()"
   ]
  },
  {
   "cell_type": "markdown",
   "metadata": {},
   "source": [
    ">Nilai missing value dari kolom `bathroom` hanya 32 dari 10000 data (0.34%), maka tidak masalah jika baris dengan missing value dari kolom tersebut dihapus."
   ]
  },
  {
   "cell_type": "markdown",
   "metadata": {},
   "source": [
    ">Nilai missing value dari kolom `bedrooms` hanya 6 dari 10000 data (0.06%), maka tidak masalah jika baris dengan missing value dari kolom tersebut dihapus."
   ]
  },
  {
   "cell_type": "code",
   "execution_count": 12,
   "metadata": {},
   "outputs": [
    {
     "data": {
      "text/plain": [
       "array([nan, 'Cats,Dogs', 'Cats', 'Dogs'], dtype=object)"
      ]
     },
     "execution_count": 12,
     "metadata": {},
     "output_type": "execute_result"
    }
   ],
   "source": [
    "# tampilkan nilai unik dari kolom pets allowed\n",
    "df['pets_allowed'].unique()"
   ]
  },
  {
   "cell_type": "code",
   "execution_count": 13,
   "metadata": {},
   "outputs": [
    {
     "data": {
      "text/plain": [
       "pets_allowed\n",
       "Cats,Dogs    5225\n",
       "Cats          485\n",
       "Dogs          124\n",
       "Name: count, dtype: int64"
      ]
     },
     "execution_count": 13,
     "metadata": {},
     "output_type": "execute_result"
    }
   ],
   "source": [
    "# tampilkan jumlah masing-masing unique value dari kolom pets allowed\n",
    "df['pets_allowed'].value_counts()"
   ]
  },
  {
   "cell_type": "markdown",
   "metadata": {},
   "source": [
    ">Dari pembacaan di atas, nilai missing value kolom `pets_allowed` berjumlah 4163 diperkirakan memiliki nilai tidak diperbolehkan membawa peliharaan sehingga akan diisi dengan nilai 'not allowed'."
   ]
  },
  {
   "cell_type": "markdown",
   "metadata": {},
   "source": [
    ">Nilai missing value dari kolom `state` hanya 77 dari 10000 data (0.77%), maka tidak masalah jika baris dengan missing value dari kolom tersebut dihapus."
   ]
  },
  {
   "cell_type": "markdown",
   "metadata": {},
   "source": [
    ">Nilai missing value dari masing-masing kolom `latitude` dan `longitude` hanya 10 dari 10000 data (0.10%), maka tidak masalah jika baris dengan missing value dari kolom tersebut dihapus."
   ]
  },
  {
   "cell_type": "code",
   "execution_count": 14,
   "metadata": {},
   "outputs": [],
   "source": [
    "# sebelum hapus seluruh baris dengan missing value, isi dahulu missing value pada kolom pets_allowed dengan 'not allowed'\n",
    "df['pets_allowed'].fillna('not allowed', inplace=True)"
   ]
  },
  {
   "cell_type": "code",
   "execution_count": 15,
   "metadata": {},
   "outputs": [],
   "source": [
    "# hapus seluruh baris dengan missing value\n",
    "df.dropna(inplace=True)\n",
    "\n",
    "# reset index\n",
    "df.reset_index(inplace=True,drop=True)"
   ]
  },
  {
   "cell_type": "code",
   "execution_count": 16,
   "metadata": {},
   "outputs": [
    {
     "data": {
      "text/plain": [
       "bathrooms       0\n",
       "bedrooms        0\n",
       "has_photo       0\n",
       "pets_allowed    0\n",
       "price           0\n",
       "square_feet     0\n",
       "state           0\n",
       "latitude        0\n",
       "longitude       0\n",
       "dtype: int64"
      ]
     },
     "execution_count": 16,
     "metadata": {},
     "output_type": "execute_result"
    }
   ],
   "source": [
    "# tampilkan kembali jumlah missing value dari masing-masing kolom\n",
    "df.isna().sum()"
   ]
  },
  {
   "cell_type": "code",
   "execution_count": 17,
   "metadata": {},
   "outputs": [
    {
     "name": "stdout",
     "output_type": "stream",
     "text": [
      "<class 'pandas.core.frame.DataFrame'>\n",
      "RangeIndex: 9879 entries, 0 to 9878\n",
      "Data columns (total 9 columns):\n",
      " #   Column        Non-Null Count  Dtype  \n",
      "---  ------        --------------  -----  \n",
      " 0   bathrooms     9879 non-null   float64\n",
      " 1   bedrooms      9879 non-null   float64\n",
      " 2   has_photo     9879 non-null   object \n",
      " 3   pets_allowed  9879 non-null   object \n",
      " 4   price         9879 non-null   int64  \n",
      " 5   square_feet   9879 non-null   int64  \n",
      " 6   state         9879 non-null   object \n",
      " 7   latitude      9879 non-null   float64\n",
      " 8   longitude     9879 non-null   float64\n",
      "dtypes: float64(4), int64(2), object(3)\n",
      "memory usage: 694.7+ KB\n"
     ]
    }
   ],
   "source": [
    "# tampilkan info dari data untuk diobservasi kembali\n",
    "df.info()"
   ]
  },
  {
   "cell_type": "markdown",
   "metadata": {},
   "source": [
    "Data akhir berjumlah 9879 baris yang artinya jumlah missing value yang dihapus hanya 121 yang memiliki komposisi 1,21%. Nilai tersebut diperkirakan tidak akan memberi pengaruh besar terhadap pelatihan model."
   ]
  },
  {
   "cell_type": "markdown",
   "metadata": {},
   "source": [
    "# 4 EXPLORATORY DATA ANALYSIS (EDA)"
   ]
  },
  {
   "cell_type": "markdown",
   "metadata": {},
   "source": [
    ">Untuk melakukan eksplorasi data, karena harga merupakan target maka akan dibuat visualisasi dari seluruh kolom terhadap harga."
   ]
  },
  {
   "cell_type": "code",
   "execution_count": 18,
   "metadata": {},
   "outputs": [
    {
     "data": {
      "image/png": "[encoded data removed]",
      "text/plain": [
       "<Figure size 600x400 with 1 Axes>"
      ]
     },
     "metadata": {},
     "output_type": "display_data"
    },
    {
     "data": {
      "image/png": "[encoded data removed]",
      "text/plain": [
       "<Figure size 600x400 with 1 Axes>"
      ]
     },
     "metadata": {},
     "output_type": "display_data"
    },
    {
     "data": {
      "image/png": "[encoded data removed]",
      "text/plain": [
       "<Figure size 600x400 with 1 Axes>"
      ]
     },
     "metadata": {},
     "output_type": "display_data"
    }
   ],
   "source": [
    "# pembuatan visualisasi scatter plot\n",
    "scatter_viz = ['bathrooms','bedrooms','square_feet']\n",
    "\n",
    "# loop untuk scatter plot antara scatter_viz vs price\n",
    "for col in scatter_viz:\n",
    "    plt.figure(figsize=(6,4))\n",
    "    sns.scatterplot(x=col, y='price', data=df)\n",
    "    plt.title(f'Scatter Plot: {col} vs Price')\n",
    "    plt.xlabel(col)\n",
    "    plt.ylabel('Price')\n",
    "    plt.show()"
   ]
  },
  {
   "cell_type": "markdown",
   "metadata": {},
   "source": [
    ">Secara umum, kolom dengan nilai numerik yaitu `bathrooms`,`bedrooms` dan `square_feet` terlihat memiliki korelasi positif terhadap `price` dengan beberapa pengecualian yang disebabkan oleh nilai yang diperkirakan merupakan outlier."
   ]
  },
  {
   "cell_type": "code",
   "execution_count": 19,
   "metadata": {},
   "outputs": [
    {
     "data": {
      "image/png": "[encoded data removed]",
      "text/plain": [
       "<Figure size 1000x400 with 1 Axes>"
      ]
     },
     "metadata": {},
     "output_type": "display_data"
    },
    {
     "data": {
      "image/png": "[encoded data removed]",
      "text/plain": [
       "<Figure size 1000x400 with 1 Axes>"
      ]
     },
     "metadata": {},
     "output_type": "display_data"
    },
    {
     "data": {
      "image/png": "[encoded data removed]",
      "text/plain": [
       "<Figure size 1000x400 with 1 Axes>"
      ]
     },
     "metadata": {},
     "output_type": "display_data"
    }
   ],
   "source": [
    "# pembuatan visualisasi bar plot\n",
    "bar_viz = ['has_photo','pets_allowed','state']\n",
    "\n",
    "\n",
    "# loop untuk scatter plot antara bar_viz vs avg price\n",
    "for col in bar_viz:\n",
    "    plt.figure(figsize=(10, 4))\n",
    "    avg_price = df.groupby(col)['price'].mean().sort_values(ascending=False).reset_index()\n",
    "    sns.barplot(x=col, y='price', data=avg_price)\n",
    "    plt.title(f'Bar Plot: {col} vs Average Price')\n",
    "    plt.xlabel(col)\n",
    "    plt.ylabel('Average Price')\n",
    "    plt.xticks(rotation=90)  # Rotasi label untuk keterbacaan\n",
    "    # plt.tight_layout()\n",
    "    plt.show()"
   ]
  },
  {
   "cell_type": "markdown",
   "metadata": {},
   "source": [
    "Kolom `has_photo` tidak memiliki pengaruh terhadap terhadap average dari `price`.<br>\n",
    "Kolom `pets_allowed` dengan value Dogs memiliki harga sewa tertinggi dibanding ketiga nilai lainnya.<br>\n",
    "Kolom `state` menunjukkan nilai rata-rata harga sewa di masing-masing negara bagian yang diurutkan dari yang termahal. Negara bagian dengan harga sewa termahal adalah Hawaii sedangkan yang termurah adalah Wyoming."
   ]
  },
  {
   "cell_type": "markdown",
   "metadata": {},
   "source": [
    "# 5 FEATURE ENGINEERING (FE)"
   ]
  },
  {
   "cell_type": "code",
   "execution_count": 20,
   "metadata": {},
   "outputs": [
    {
     "name": "stdout",
     "output_type": "stream",
     "text": [
      "<class 'pandas.core.frame.DataFrame'>\n",
      "RangeIndex: 9879 entries, 0 to 9878\n",
      "Data columns (total 9 columns):\n",
      " #   Column        Non-Null Count  Dtype  \n",
      "---  ------        --------------  -----  \n",
      " 0   bathrooms     9879 non-null   float64\n",
      " 1   bedrooms      9879 non-null   float64\n",
      " 2   has_photo     9879 non-null   object \n",
      " 3   pets_allowed  9879 non-null   object \n",
      " 4   price         9879 non-null   int64  \n",
      " 5   square_feet   9879 non-null   int64  \n",
      " 6   state         9879 non-null   object \n",
      " 7   latitude      9879 non-null   float64\n",
      " 8   longitude     9879 non-null   float64\n",
      "dtypes: float64(4), int64(2), object(3)\n",
      "memory usage: 694.7+ KB\n"
     ]
    }
   ],
   "source": [
    "# tampilkan info dari data untuk diobservasi kembali\n",
    "df.info()\n",
    "\n",
    "# export data ke dalam file csv untuk keperluan deployment\n",
    "df.to_csv('df.csv', index=False)"
   ]
  },
  {
   "cell_type": "markdown",
   "metadata": {},
   "source": [
    "## Feature Selection"
   ]
  },
  {
   "cell_type": "markdown",
   "metadata": {},
   "source": [
    ">Karena data terbaru tidak memiliki missing value, maka sebelum data masuk ke dalam feature engineering dapat dilakukan analisis korelasi untuk menentukan fitur mana saja yang relevan untuk dimasukkan ke dalam model."
   ]
  },
  {
   "cell_type": "markdown",
   "metadata": {},
   "source": [
    "Untuk melakukan seleksi fitur, kita perlu tahu korelasi masing-masing fitur dengan target.<br>\n",
    "Dari 8 fitur yang tersedia, kita dapat membaginya berdasarkan jenis metode analisis korelasi dengan target yaitu:\n",
    "- Fitur `bathrooms`, `bedrooms`, `square_feet`, `latitude` dan `longitude` memiliki nilai numerik, untuk analisis korelasi terhadap target yang merupakan data numerik juga maka akan menggunakan metode korelasi Pearson atau Spearman (tergantung pada jenis distribusi masing-masing fitur).\n",
    "- Fitur `has_photo`, `pets_allowed` dan `state` memiliki nilai kategorik nominal, untuk analisis korelasi terhadap target yang merupakan data numerik maka akan menggunakan metode korelasi Anova."
   ]
  },
  {
   "cell_type": "markdown",
   "metadata": {},
   "source": [
    "### Fitur Numerik"
   ]
  },
  {
   "cell_type": "markdown",
   "metadata": {},
   "source": [
    ">Hitung nilai skewness dari masing-masing fitur numerik untuk mengetahui normalitas distribusi."
   ]
  },
  {
   "cell_type": "code",
   "execution_count": 21,
   "metadata": {},
   "outputs": [
    {
     "name": "stdout",
     "output_type": "stream",
     "text": [
      "Nilai Skewness dari Fitur bathrooms adalah: 2.0562253547470375\n",
      "Nilai Skewness dari Fitur bedrooms adalah: 1.1802935552352116\n",
      "Nilai Skewness dari Fitur square_feet adalah: 3.5299246624596012\n",
      "Nilai Skewness dari Fitur latitude adalah: 0.2880140006568442\n",
      "Nilai Skewness dari Fitur longitude adalah: -0.6690826362050941\n"
     ]
    }
   ],
   "source": [
    "# gunakan loops untuk menghitung nilai skewness dari fitur numerik\n",
    "skew_level = ['bathrooms','bedrooms','square_feet','latitude','longitude']\n",
    "\n",
    "for col in skew_level:\n",
    "    skewness = df[col].skew()\n",
    "    print(f\"Nilai Skewness dari Fitur {col} adalah: {skewness}\")"
   ]
  },
  {
   "cell_type": "markdown",
   "metadata": {},
   "source": [
    "Berdasarkan nilai skewness, distribusi fitur numerik terbagi menjadi normal distribution (`latitude`) dan skewed distribution (`bathrooms`,`bedrooms`,`square_feet`,`longitude`). Untuk uji korelasi antara fitur bersifat skewed akan dilakukan menggunakan metode Spearman dan yang bersifat normal menggunakan metode Pearson."
   ]
  },
  {
   "cell_type": "markdown",
   "metadata": {},
   "source": [
    "Analisis korelasi  menggunakan nilai alfa = 0.05.<br>\n",
    "Setelah melakukan analisis, jika p-value < 0.05, maka kita menolak hipotesis nol (H₀) dan menerima hipotesis alternatif (H₁)."
   ]
  },
  {
   "cell_type": "markdown",
   "metadata": {},
   "source": [
    ">Hitung nilai korelasi fitur numerik yang bersifat skewed menggunakan metode analisis Spearman."
   ]
  },
  {
   "cell_type": "markdown",
   "metadata": {},
   "source": [
    "Hipotesis:<br>\n",
    "Hipotesis Nol (H₀): Tidak ada hubungan monotonic yang signifikan antara fitur dan target.<br>\n",
    "Hipotesis Alternatif (H₁): Ada hubungan monotonic yang signifikan antara fitur dan target.<br>\n",
    "\n",
    "Berdasarkan Nilai Alfa:<br>\n",
    "Jika p-value < α, kita menolak H₀ dan menerima H₁, yang berarti ada hubungan monotonic yang signifikan antara fitur dan target.<br>\n",
    "Jika p-value ≥ α, kita gagal menolak H₀, yang berarti tidak ada hubungan monotonic yang signifikan."
   ]
  },
  {
   "cell_type": "code",
   "execution_count": 22,
   "metadata": {},
   "outputs": [
    {
     "name": "stdout",
     "output_type": "stream",
     "text": [
      "P-Value bathrooms terhadap price: 0.000\n",
      "P-Value bedrooms terhadap price: 0.000\n",
      "P-Value square_feet terhadap price: 0.000\n",
      "P-Value longitude terhadap price: 0.000\n"
     ]
    }
   ],
   "source": [
    "# gunakan loops untuk menghitung korelasi dari fitur numerik skewed\n",
    "skewed_features = ['bathrooms', 'bedrooms', 'square_feet', 'longitude']\n",
    "target = 'price'\n",
    "\n",
    "for col in skewed_features:\n",
    "    korelasi, p_value = spearmanr(df[col], df[target])\n",
    "    print(f\"P-Value {col} terhadap {target}: {p_value:.3f}\")\n"
   ]
  },
  {
   "cell_type": "markdown",
   "metadata": {},
   "source": [
    "Hasil dari analisis, seluruh fitur yang memiliki P-Value = 0 yang artinya **seluruh fitur skewed memiliki hubungan monotonik terhadap target** sehingga dapat dimasukkan ke dalam model."
   ]
  },
  {
   "cell_type": "markdown",
   "metadata": {},
   "source": [
    ">Hitung nilai korelasi fitur numerik yang bersifat normal menggunakan metode analisis Pearson."
   ]
  },
  {
   "cell_type": "markdown",
   "metadata": {},
   "source": [
    "Hipotesis:<br>\n",
    "Hipotesis Nol (H₀): Ada hubungan linear yang signifikan antara fitur dan target.<br>\n",
    "Hipotesis Alternatif (H₁): Tidak ada hubungan linear yang signifikan antara fitur dan target.<br>\n",
    "\n",
    "Berdasarkan Nilai alfa:<br>\n",
    "Jika p-value < α, kita menolak H₀ dan menerima H₁, yang berarti ada hubungan linear yang signifikan antara fitur dan target.<br>\n",
    "Jika p-value ≥ α, kita gagal menolak H₀, yang berarti tidak ada hubungan linear yang signifikan."
   ]
  },
  {
   "cell_type": "code",
   "execution_count": 23,
   "metadata": {},
   "outputs": [
    {
     "name": "stdout",
     "output_type": "stream",
     "text": [
      "P-Value latitude terhadap price: 0.159\n"
     ]
    }
   ],
   "source": [
    "# gunakan loops untuk menghitung korelasi dari fitur numerik normal\n",
    "normal_features = ['latitude']\n",
    "target = 'price'\n",
    "\n",
    "for col in normal_features:\n",
    "    korelasi, p_value = pearsonr(df[col], df[target])\n",
    "    print(f\"P-Value {col} terhadap {target}: {p_value:.3f}\")"
   ]
  },
  {
   "cell_type": "markdown",
   "metadata": {},
   "source": [
    "Hasil dari analisis **fitur `lattitude` memiliki korelasi linear terhadap target** maka fitur `latitude` akan dimasukkan ke dalam model."
   ]
  },
  {
   "cell_type": "markdown",
   "metadata": {},
   "source": [
    "### Fitur Kategorik"
   ]
  },
  {
   "cell_type": "markdown",
   "metadata": {},
   "source": [
    ">Hitung nilai korelasi fitur kategorik nominal menggunakan metode analisis Anova."
   ]
  },
  {
   "cell_type": "markdown",
   "metadata": {},
   "source": [
    "Hipotesis:<br>\n",
    "Hipotesis Nol (H₀): Tidak ada perbedaan yang signifikan dalam rata-rata antara fitur dan target.<br>\n",
    "Hipotesis Alternatif (H₁): Ada perbedaan yang signifikan dalam rata-rata antara fitur dan target.<br>\n",
    "\n",
    "Berdasarkan Nilai Alfa:<br>\n",
    "Jika p-value < α, kita menolak H₀ dan menerima H₁, yang berarti ada perbedaan yang signifikan antara rata-rata fitur dan target.<br>\n",
    "Jika p-value ≥ α, kita gagal menolak H₀, yang berarti tidak ada perbedaan signifikan antara rata-rata fitur dan target."
   ]
  },
  {
   "cell_type": "code",
   "execution_count": 24,
   "metadata": {},
   "outputs": [
    {
     "name": "stdout",
     "output_type": "stream",
     "text": [
      "P-Value has_photo terhadap price: 0.395\n",
      "P-Value pets_allowed terhadap price: 0.000\n",
      "P-Value state terhadap price: 0.000\n"
     ]
    }
   ],
   "source": [
    "categorical_features = ['has_photo', 'pets_allowed', 'state']\n",
    "target = 'price'\n",
    "\n",
    "for col in categorical_features:\n",
    "    # kelompokkan data berdasarkan kategori\n",
    "    groups = [df[df[col] == value][target] for value in df[col].unique()]\n",
    "    \n",
    "    # hitung nilai ANOVA dan P-Value\n",
    "    f_stat, p_value = f_oneway(*groups)\n",
    "    \n",
    "    # cukup tampilkan nilai P-Value\n",
    "    print(f\"P-Value {col} terhadap {target}: {p_value:.3f}\")"
   ]
  },
  {
   "cell_type": "markdown",
   "metadata": {},
   "source": [
    "Hasil dari analisis, **fitur `pets_allowed` dan `state` memiliki korelasi terhadap target**, sedangkan fitur `has_photo` tidak. Maka **fitur `has_photo` tidak akan dimasukkan ke dalam model**."
   ]
  },
  {
   "cell_type": "code",
   "execution_count": 25,
   "metadata": {},
   "outputs": [],
   "source": [
    "df.drop(['has_photo'], axis=1, inplace=True)"
   ]
  },
  {
   "cell_type": "markdown",
   "metadata": {},
   "source": [
    "## Splitting Data"
   ]
  },
  {
   "cell_type": "markdown",
   "metadata": {},
   "source": [
    "Sebelum data masuk ke dalam feature engineering selanjutnya, diperlukan splitting agar tidak terjadi kebocoran data terhadap algoritma."
   ]
  },
  {
   "cell_type": "code",
   "execution_count": 26,
   "metadata": {},
   "outputs": [],
   "source": [
    "# pisahkan dataframe menjadi feature (X) dan target (y)\n",
    "X = df.drop(['price'], axis = 1)\n",
    "y = df['price']"
   ]
  },
  {
   "cell_type": "code",
   "execution_count": 27,
   "metadata": {},
   "outputs": [
    {
     "name": "stdout",
     "output_type": "stream",
     "text": [
      "Train Size:  (7903, 7)\n",
      "Test Size:  (1976, 7)\n"
     ]
    }
   ],
   "source": [
    "# bagi dataframe feature dan target masing-masing menjadi baris train dan test\n",
    "X_train, X_test, y_train, y_test = train_test_split(X, y, test_size = 0.2, random_state = 42)\n",
    "print('Train Size: ', X_train.shape)\n",
    "print('Test Size: ', X_test.shape)"
   ]
  },
  {
   "cell_type": "markdown",
   "metadata": {},
   "source": [
    "## Cek dan Handling Outlier"
   ]
  },
  {
   "cell_type": "code",
   "execution_count": 28,
   "metadata": {},
   "outputs": [
    {
     "data": {
      "text/html": [
       "<div>\n",
       "<style scoped>\n",
       "    .dataframe tbody tr th:only-of-type {\n",
       "        vertical-align: middle;\n",
       "    }\n",
       "\n",
       "    .dataframe tbody tr th {\n",
       "        vertical-align: top;\n",
       "    }\n",
       "\n",
       "    .dataframe thead th {\n",
       "        text-align: right;\n",
       "    }\n",
       "</style>\n",
       "<table border=\"1\" class=\"dataframe\">\n",
       "  <thead>\n",
       "    <tr style=\"text-align: right;\">\n",
       "      <th></th>\n",
       "      <th>bathrooms</th>\n",
       "      <th>bedrooms</th>\n",
       "      <th>square_feet</th>\n",
       "      <th>latitude</th>\n",
       "      <th>longitude</th>\n",
       "    </tr>\n",
       "  </thead>\n",
       "  <tbody>\n",
       "    <tr>\n",
       "      <th>count</th>\n",
       "      <td>7903.000000</td>\n",
       "      <td>7903.000000</td>\n",
       "      <td>7903.000000</td>\n",
       "      <td>7903.000000</td>\n",
       "      <td>7903.000000</td>\n",
       "    </tr>\n",
       "    <tr>\n",
       "      <th>mean</th>\n",
       "      <td>1.384791</td>\n",
       "      <td>1.749336</td>\n",
       "      <td>945.204859</td>\n",
       "      <td>37.681625</td>\n",
       "      <td>-94.554187</td>\n",
       "    </tr>\n",
       "    <tr>\n",
       "      <th>std</th>\n",
       "      <td>0.615372</td>\n",
       "      <td>0.944581</td>\n",
       "      <td>518.710399</td>\n",
       "      <td>5.515656</td>\n",
       "      <td>15.827785</td>\n",
       "    </tr>\n",
       "    <tr>\n",
       "      <th>min</th>\n",
       "      <td>1.000000</td>\n",
       "      <td>0.000000</td>\n",
       "      <td>116.000000</td>\n",
       "      <td>21.315500</td>\n",
       "      <td>-158.022100</td>\n",
       "    </tr>\n",
       "    <tr>\n",
       "      <th>25%</th>\n",
       "      <td>1.000000</td>\n",
       "      <td>1.000000</td>\n",
       "      <td>650.000000</td>\n",
       "      <td>33.688950</td>\n",
       "      <td>-101.301700</td>\n",
       "    </tr>\n",
       "    <tr>\n",
       "      <th>50%</th>\n",
       "      <td>1.000000</td>\n",
       "      <td>2.000000</td>\n",
       "      <td>809.000000</td>\n",
       "      <td>38.783500</td>\n",
       "      <td>-93.627600</td>\n",
       "    </tr>\n",
       "    <tr>\n",
       "      <th>75%</th>\n",
       "      <td>2.000000</td>\n",
       "      <td>2.000000</td>\n",
       "      <td>1100.000000</td>\n",
       "      <td>41.349800</td>\n",
       "      <td>-81.760200</td>\n",
       "    </tr>\n",
       "    <tr>\n",
       "      <th>max</th>\n",
       "      <td>8.000000</td>\n",
       "      <td>9.000000</td>\n",
       "      <td>8716.000000</td>\n",
       "      <td>61.594000</td>\n",
       "      <td>-70.191600</td>\n",
       "    </tr>\n",
       "  </tbody>\n",
       "</table>\n",
       "</div>"
      ],
      "text/plain": [
       "         bathrooms     bedrooms  square_feet     latitude    longitude\n",
       "count  7903.000000  7903.000000  7903.000000  7903.000000  7903.000000\n",
       "mean      1.384791     1.749336   945.204859    37.681625   -94.554187\n",
       "std       0.615372     0.944581   518.710399     5.515656    15.827785\n",
       "min       1.000000     0.000000   116.000000    21.315500  -158.022100\n",
       "25%       1.000000     1.000000   650.000000    33.688950  -101.301700\n",
       "50%       1.000000     2.000000   809.000000    38.783500   -93.627600\n",
       "75%       2.000000     2.000000  1100.000000    41.349800   -81.760200\n",
       "max       8.000000     9.000000  8716.000000    61.594000   -70.191600"
      ]
     },
     "execution_count": 28,
     "metadata": {},
     "output_type": "execute_result"
    }
   ],
   "source": [
    "X_train.describe()"
   ]
  },
  {
   "cell_type": "code",
   "execution_count": 29,
   "metadata": {},
   "outputs": [
    {
     "data": {
      "text/html": [
       "<div>\n",
       "<style scoped>\n",
       "    .dataframe tbody tr th:only-of-type {\n",
       "        vertical-align: middle;\n",
       "    }\n",
       "\n",
       "    .dataframe tbody tr th {\n",
       "        vertical-align: top;\n",
       "    }\n",
       "\n",
       "    .dataframe thead th {\n",
       "        text-align: right;\n",
       "    }\n",
       "</style>\n",
       "<table border=\"1\" class=\"dataframe\">\n",
       "  <thead>\n",
       "    <tr style=\"text-align: right;\">\n",
       "      <th></th>\n",
       "      <th>nama kolom</th>\n",
       "      <th>nilai skewness</th>\n",
       "      <th>distribution</th>\n",
       "    </tr>\n",
       "  </thead>\n",
       "  <tbody>\n",
       "    <tr>\n",
       "      <th>0</th>\n",
       "      <td>bathrooms</td>\n",
       "      <td>1.9</td>\n",
       "      <td>skewed</td>\n",
       "    </tr>\n",
       "    <tr>\n",
       "      <th>1</th>\n",
       "      <td>bedrooms</td>\n",
       "      <td>1.2</td>\n",
       "      <td>skewed</td>\n",
       "    </tr>\n",
       "    <tr>\n",
       "      <th>2</th>\n",
       "      <td>square_feet</td>\n",
       "      <td>3.0</td>\n",
       "      <td>skewed</td>\n",
       "    </tr>\n",
       "    <tr>\n",
       "      <th>3</th>\n",
       "      <td>latitude</td>\n",
       "      <td>0.3</td>\n",
       "      <td>normal</td>\n",
       "    </tr>\n",
       "    <tr>\n",
       "      <th>4</th>\n",
       "      <td>longitude</td>\n",
       "      <td>-0.7</td>\n",
       "      <td>skewed</td>\n",
       "    </tr>\n",
       "  </tbody>\n",
       "</table>\n",
       "</div>"
      ],
      "text/plain": [
       "    nama kolom  nilai skewness distribution\n",
       "0    bathrooms             1.9       skewed\n",
       "1     bedrooms             1.2       skewed\n",
       "2  square_feet             3.0       skewed\n",
       "3     latitude             0.3       normal\n",
       "4    longitude            -0.7       skewed"
      ]
     },
     "execution_count": 29,
     "metadata": {},
     "output_type": "execute_result"
    }
   ],
   "source": [
    "# buat variabel yang berisi fitur numerik saja\n",
    "num_cols = list(X_train.select_dtypes(exclude='object').columns)\n",
    "listItem= []\n",
    "\n",
    "# cek kenormalan distribusi data masing-masing fitur numerik\n",
    "for col in num_cols:\n",
    "  listItem.append([col, round(X_train[col].skew(),1), np.where(\n",
    "    (round(X_train[col].skew(),1) <= 0.5) & (round(X_train[col].skew(),1) >= -0.5),\n",
    "    'normal',\n",
    "    'skewed')])\n",
    "\n",
    "skewness = pd.DataFrame(columns=['nama kolom', 'nilai skewness', 'distribution'], data= listItem)\n",
    "skewness"
   ]
  },
  {
   "cell_type": "code",
   "execution_count": 30,
   "metadata": {},
   "outputs": [
    {
     "data": {
      "text/html": [
       "<div>\n",
       "<style scoped>\n",
       "    .dataframe tbody tr th:only-of-type {\n",
       "        vertical-align: middle;\n",
       "    }\n",
       "\n",
       "    .dataframe tbody tr th {\n",
       "        vertical-align: top;\n",
       "    }\n",
       "\n",
       "    .dataframe thead th {\n",
       "        text-align: right;\n",
       "    }\n",
       "</style>\n",
       "<table border=\"1\" class=\"dataframe\">\n",
       "  <thead>\n",
       "    <tr style=\"text-align: right;\">\n",
       "      <th></th>\n",
       "      <th>column</th>\n",
       "      <th>upper_boundary</th>\n",
       "      <th>lower_boundary</th>\n",
       "      <th>percentage_total_outlier</th>\n",
       "    </tr>\n",
       "  </thead>\n",
       "  <tbody>\n",
       "    <tr>\n",
       "      <th>0</th>\n",
       "      <td>bathrooms</td>\n",
       "      <td>5.00</td>\n",
       "      <td>-2.00</td>\n",
       "      <td>0.05</td>\n",
       "    </tr>\n",
       "    <tr>\n",
       "      <th>1</th>\n",
       "      <td>bedrooms</td>\n",
       "      <td>5.00</td>\n",
       "      <td>-2.00</td>\n",
       "      <td>0.20</td>\n",
       "    </tr>\n",
       "    <tr>\n",
       "      <th>2</th>\n",
       "      <td>square_feet</td>\n",
       "      <td>2450.00</td>\n",
       "      <td>-700.00</td>\n",
       "      <td>2.06</td>\n",
       "    </tr>\n",
       "    <tr>\n",
       "      <th>3</th>\n",
       "      <td>latitude</td>\n",
       "      <td>54.23</td>\n",
       "      <td>21.13</td>\n",
       "      <td>0.47</td>\n",
       "    </tr>\n",
       "    <tr>\n",
       "      <th>4</th>\n",
       "      <td>longitude</td>\n",
       "      <td>-23.14</td>\n",
       "      <td>-159.93</td>\n",
       "      <td>0.00</td>\n",
       "    </tr>\n",
       "  </tbody>\n",
       "</table>\n",
       "</div>"
      ],
      "text/plain": [
       "        column  upper_boundary  lower_boundary  percentage_total_outlier\n",
       "0    bathrooms            5.00           -2.00                      0.05\n",
       "1     bedrooms            5.00           -2.00                      0.20\n",
       "2  square_feet         2450.00         -700.00                      2.06\n",
       "3     latitude           54.23           21.13                      0.47\n",
       "4    longitude          -23.14         -159.93                      0.00"
      ]
     },
     "execution_count": 30,
     "metadata": {},
     "output_type": "execute_result"
    }
   ],
   "source": [
    "# cari nilai dari batas bawah, batas atas dan persentase dari outlier\n",
    "column = []\n",
    "lower_bound = []\n",
    "upper_bound = []\n",
    "percent_total_outlier = []\n",
    "\n",
    "for row in range (0, len(skewness)):\n",
    "  col = skewness['nama kolom'][row]\n",
    "  # cek batas atas dan bawah\n",
    "  if skewness['distribution'][row] == 'skewed':\n",
    "    IQR = X_train[col].quantile(0.75) - X_train[col].quantile(0.25)\n",
    "    lower_boundary = X_train[col].quantile(0.25) - (IQR * 3)\n",
    "    upper_boundary = X_train[col].quantile(0.75) + (IQR * 3)\n",
    "  else:\n",
    "    lower_boundary = X_train[col].mean() - 3* X_train[col].std()\n",
    "    upper_boundary = X_train[col].mean() + 3* X_train[col].std()\n",
    "  # tambahkan ke list kosong\n",
    "  column.append(col)\n",
    "  lower_bound.append(lower_boundary)\n",
    "  upper_bound.append(upper_boundary)\n",
    "  totout = ((len(X_train[X_train[col] > upper_boundary]) / len(X_train) * 100) + (len(X_train[X_train[col] < lower_boundary]) / len(X_train) * 100))\n",
    "  percent_total_outlier.append(totout)\n",
    "\n",
    "outliers = pd.DataFrame({\n",
    "    'column': column,\n",
    "    # bulatkan nilai\n",
    "    'upper_boundary': [round(upper_bound,2) for upper_bound in upper_bound],\n",
    "    'lower_boundary': [round(lower_bound,2) for lower_bound in lower_bound],\n",
    "    'percentage_total_outlier': [round(percent_total_outlier,2) for percent_total_outlier in percent_total_outlier]\n",
    "})\n",
    "outliers"
   ]
  },
  {
   "cell_type": "markdown",
   "metadata": {},
   "source": [
    "Hasil perhitungan menunjukkan komposisi outlier terhadap masing-masing fitur tidak ada yang melewati 5%. Komposisi outlier yang relatif kecil akan menarik nilai central relatif secara dekat (tidak terlalu mempengaruhi distribusi data), jadi diputuskan untuk tidak dilakukan handling outlier."
   ]
  },
  {
   "cell_type": "markdown",
   "metadata": {},
   "source": [
    "## Feature Scaling"
   ]
  },
  {
   "cell_type": "code",
   "execution_count": 31,
   "metadata": {},
   "outputs": [
    {
     "name": "stdout",
     "output_type": "stream",
     "text": [
      "<class 'pandas.core.frame.DataFrame'>\n",
      "Index: 7903 entries, 6392 to 7270\n",
      "Data columns (total 7 columns):\n",
      " #   Column        Non-Null Count  Dtype  \n",
      "---  ------        --------------  -----  \n",
      " 0   bathrooms     7903 non-null   float64\n",
      " 1   bedrooms      7903 non-null   float64\n",
      " 2   pets_allowed  7903 non-null   object \n",
      " 3   square_feet   7903 non-null   int64  \n",
      " 4   state         7903 non-null   object \n",
      " 5   latitude      7903 non-null   float64\n",
      " 6   longitude     7903 non-null   float64\n",
      "dtypes: float64(4), int64(1), object(2)\n",
      "memory usage: 493.9+ KB\n"
     ]
    }
   ],
   "source": [
    "X_train.info()"
   ]
  },
  {
   "cell_type": "markdown",
   "metadata": {},
   "source": [
    "Sebelum masuk ke dalam algoritma, dilakukan Scaling dan Encoding untuk memudahkan model mempelajari pola dalam data.<br>\n",
    "Scaling akan dilakukan terhadap fitur numerik (`bathrooms`, `bedrooms`, `square_feet`, `latitude`, `longitude`) dan encoding akan dilakukan terhadap fitur kategorik (`pets_allowed`, `state`)."
   ]
  },
  {
   "cell_type": "code",
   "execution_count": 32,
   "metadata": {},
   "outputs": [
    {
     "data": {
      "text/html": [
       "<div>\n",
       "<style scoped>\n",
       "    .dataframe tbody tr th:only-of-type {\n",
       "        vertical-align: middle;\n",
       "    }\n",
       "\n",
       "    .dataframe tbody tr th {\n",
       "        vertical-align: top;\n",
       "    }\n",
       "\n",
       "    .dataframe thead th {\n",
       "        text-align: right;\n",
       "    }\n",
       "</style>\n",
       "<table border=\"1\" class=\"dataframe\">\n",
       "  <thead>\n",
       "    <tr style=\"text-align: right;\">\n",
       "      <th></th>\n",
       "      <th>bathrooms</th>\n",
       "      <th>bedrooms</th>\n",
       "      <th>square_feet</th>\n",
       "      <th>latitude</th>\n",
       "      <th>longitude</th>\n",
       "    </tr>\n",
       "  </thead>\n",
       "  <tbody>\n",
       "    <tr>\n",
       "      <th>count</th>\n",
       "      <td>7903.000000</td>\n",
       "      <td>7903.000000</td>\n",
       "      <td>7903.000000</td>\n",
       "      <td>7903.000000</td>\n",
       "      <td>7903.000000</td>\n",
       "    </tr>\n",
       "    <tr>\n",
       "      <th>mean</th>\n",
       "      <td>1.384791</td>\n",
       "      <td>1.749336</td>\n",
       "      <td>945.204859</td>\n",
       "      <td>37.681625</td>\n",
       "      <td>-94.554187</td>\n",
       "    </tr>\n",
       "    <tr>\n",
       "      <th>std</th>\n",
       "      <td>0.615372</td>\n",
       "      <td>0.944581</td>\n",
       "      <td>518.710399</td>\n",
       "      <td>5.515656</td>\n",
       "      <td>15.827785</td>\n",
       "    </tr>\n",
       "    <tr>\n",
       "      <th>min</th>\n",
       "      <td>1.000000</td>\n",
       "      <td>0.000000</td>\n",
       "      <td>116.000000</td>\n",
       "      <td>21.315500</td>\n",
       "      <td>-158.022100</td>\n",
       "    </tr>\n",
       "    <tr>\n",
       "      <th>25%</th>\n",
       "      <td>1.000000</td>\n",
       "      <td>1.000000</td>\n",
       "      <td>650.000000</td>\n",
       "      <td>33.688950</td>\n",
       "      <td>-101.301700</td>\n",
       "    </tr>\n",
       "    <tr>\n",
       "      <th>50%</th>\n",
       "      <td>1.000000</td>\n",
       "      <td>2.000000</td>\n",
       "      <td>809.000000</td>\n",
       "      <td>38.783500</td>\n",
       "      <td>-93.627600</td>\n",
       "    </tr>\n",
       "    <tr>\n",
       "      <th>75%</th>\n",
       "      <td>2.000000</td>\n",
       "      <td>2.000000</td>\n",
       "      <td>1100.000000</td>\n",
       "      <td>41.349800</td>\n",
       "      <td>-81.760200</td>\n",
       "    </tr>\n",
       "    <tr>\n",
       "      <th>max</th>\n",
       "      <td>8.000000</td>\n",
       "      <td>9.000000</td>\n",
       "      <td>8716.000000</td>\n",
       "      <td>61.594000</td>\n",
       "      <td>-70.191600</td>\n",
       "    </tr>\n",
       "  </tbody>\n",
       "</table>\n",
       "</div>"
      ],
      "text/plain": [
       "         bathrooms     bedrooms  square_feet     latitude    longitude\n",
       "count  7903.000000  7903.000000  7903.000000  7903.000000  7903.000000\n",
       "mean      1.384791     1.749336   945.204859    37.681625   -94.554187\n",
       "std       0.615372     0.944581   518.710399     5.515656    15.827785\n",
       "min       1.000000     0.000000   116.000000    21.315500  -158.022100\n",
       "25%       1.000000     1.000000   650.000000    33.688950  -101.301700\n",
       "50%       1.000000     2.000000   809.000000    38.783500   -93.627600\n",
       "75%       2.000000     2.000000  1100.000000    41.349800   -81.760200\n",
       "max       8.000000     9.000000  8716.000000    61.594000   -70.191600"
      ]
     },
     "execution_count": 32,
     "metadata": {},
     "output_type": "execute_result"
    }
   ],
   "source": [
    "X_train.describe()"
   ]
  },
  {
   "cell_type": "code",
   "execution_count": 33,
   "metadata": {},
   "outputs": [
    {
     "data": {
      "text/html": [
       "<div>\n",
       "<style scoped>\n",
       "    .dataframe tbody tr th:only-of-type {\n",
       "        vertical-align: middle;\n",
       "    }\n",
       "\n",
       "    .dataframe tbody tr th {\n",
       "        vertical-align: top;\n",
       "    }\n",
       "\n",
       "    .dataframe thead th {\n",
       "        text-align: right;\n",
       "    }\n",
       "</style>\n",
       "<table border=\"1\" class=\"dataframe\">\n",
       "  <thead>\n",
       "    <tr style=\"text-align: right;\">\n",
       "      <th></th>\n",
       "      <th>nama kolom</th>\n",
       "      <th>nilai skewness</th>\n",
       "      <th>distribution</th>\n",
       "    </tr>\n",
       "  </thead>\n",
       "  <tbody>\n",
       "    <tr>\n",
       "      <th>0</th>\n",
       "      <td>bathrooms</td>\n",
       "      <td>1.9</td>\n",
       "      <td>skewed</td>\n",
       "    </tr>\n",
       "    <tr>\n",
       "      <th>1</th>\n",
       "      <td>bedrooms</td>\n",
       "      <td>1.2</td>\n",
       "      <td>skewed</td>\n",
       "    </tr>\n",
       "    <tr>\n",
       "      <th>2</th>\n",
       "      <td>square_feet</td>\n",
       "      <td>3.0</td>\n",
       "      <td>skewed</td>\n",
       "    </tr>\n",
       "    <tr>\n",
       "      <th>3</th>\n",
       "      <td>latitude</td>\n",
       "      <td>0.3</td>\n",
       "      <td>normal</td>\n",
       "    </tr>\n",
       "    <tr>\n",
       "      <th>4</th>\n",
       "      <td>longitude</td>\n",
       "      <td>-0.7</td>\n",
       "      <td>skewed</td>\n",
       "    </tr>\n",
       "  </tbody>\n",
       "</table>\n",
       "</div>"
      ],
      "text/plain": [
       "    nama kolom  nilai skewness distribution\n",
       "0    bathrooms             1.9       skewed\n",
       "1     bedrooms             1.2       skewed\n",
       "2  square_feet             3.0       skewed\n",
       "3     latitude             0.3       normal\n",
       "4    longitude            -0.7       skewed"
      ]
     },
     "execution_count": 33,
     "metadata": {},
     "output_type": "execute_result"
    }
   ],
   "source": [
    "skewness"
   ]
  },
  {
   "cell_type": "markdown",
   "metadata": {},
   "source": [
    ">Dari data terlihat value yang relatif sangat ekstrim terhadap distribusi, nilai skewness juga kebanyakan masuk ke kategori skewed-highly skewed, maka scaler yang akan digunakan adalah `Robust Scaler` karena menggunakan median dan IQR sehingga tidak akan terpengaruh oleh nilai ekstrim."
   ]
  },
  {
   "cell_type": "markdown",
   "metadata": {},
   "source": [
    ">Untuk fitur kategorik, nilai dari masing-masing fitur dapat dianggap tidak memiliki urutan (order) sehingga akan digunakan `One-Hot Encoder` dalam proses encoding."
   ]
  },
  {
   "cell_type": "code",
   "execution_count": 34,
   "metadata": {},
   "outputs": [],
   "source": [
    "# buat variabel berisi kolom yang akan di-scaling\n",
    "robust_scaling_list = ['bathrooms', 'bedrooms', 'square_feet', 'longitude']\n",
    "\n",
    "# buat variabel berisi kolom yang akan di-encoding\n",
    "hot_encoding_list = ['pets_allowed', 'state']\n",
    "\n",
    "# keduanya dibuat menjadi list agar bisa masuk dalam ColumnTransformer"
   ]
  },
  {
   "cell_type": "code",
   "execution_count": 35,
   "metadata": {},
   "outputs": [],
   "source": [
    "# gunakan ColumnTransformer untuk menggabungkan proses scaling dan encoding\n",
    "preprocessing_df = ColumnTransformer([('robust_scaled', RobustScaler(), robust_scaling_list),\n",
    "                                   ('hot_encoded', OneHotEncoder(handle_unknown='ignore', sparse_output=False), hot_encoding_list)],\n",
    "                                   remainder='drop')"
   ]
  },
  {
   "cell_type": "code",
   "execution_count": 36,
   "metadata": {},
   "outputs": [],
   "source": [
    "# lakukan preprocessing dengan fit terhadap data train\n",
    "X_train_preprocessed = preprocessing_df.fit_transform(X_train)\n",
    "\n",
    "# lakukan preprocessing terhadap data test\n",
    "X_test_preprocessed = preprocessing_df.transform(X_test)"
   ]
  },
  {
   "cell_type": "code",
   "execution_count": 37,
   "metadata": {},
   "outputs": [
    {
     "data": {
      "text/html": [
       "<div>\n",
       "<style scoped>\n",
       "    .dataframe tbody tr th:only-of-type {\n",
       "        vertical-align: middle;\n",
       "    }\n",
       "\n",
       "    .dataframe tbody tr th {\n",
       "        vertical-align: top;\n",
       "    }\n",
       "\n",
       "    .dataframe thead th {\n",
       "        text-align: right;\n",
       "    }\n",
       "</style>\n",
       "<table border=\"1\" class=\"dataframe\">\n",
       "  <thead>\n",
       "    <tr style=\"text-align: right;\">\n",
       "      <th></th>\n",
       "      <th>robust_scaled__bathrooms</th>\n",
       "      <th>robust_scaled__bedrooms</th>\n",
       "      <th>robust_scaled__square_feet</th>\n",
       "      <th>robust_scaled__longitude</th>\n",
       "      <th>hot_encoded__pets_allowed_Cats</th>\n",
       "      <th>hot_encoded__pets_allowed_Cats,Dogs</th>\n",
       "      <th>hot_encoded__pets_allowed_Dogs</th>\n",
       "      <th>hot_encoded__pets_allowed_not allowed</th>\n",
       "      <th>hot_encoded__state_AK</th>\n",
       "      <th>hot_encoded__state_AL</th>\n",
       "      <th>...</th>\n",
       "      <th>hot_encoded__state_SD</th>\n",
       "      <th>hot_encoded__state_TN</th>\n",
       "      <th>hot_encoded__state_TX</th>\n",
       "      <th>hot_encoded__state_UT</th>\n",
       "      <th>hot_encoded__state_VA</th>\n",
       "      <th>hot_encoded__state_VT</th>\n",
       "      <th>hot_encoded__state_WA</th>\n",
       "      <th>hot_encoded__state_WI</th>\n",
       "      <th>hot_encoded__state_WV</th>\n",
       "      <th>hot_encoded__state_WY</th>\n",
       "    </tr>\n",
       "  </thead>\n",
       "  <tbody>\n",
       "    <tr>\n",
       "      <th>0</th>\n",
       "      <td>0.0</td>\n",
       "      <td>-1.0</td>\n",
       "      <td>0.317778</td>\n",
       "      <td>0.216324</td>\n",
       "      <td>0.0</td>\n",
       "      <td>1.0</td>\n",
       "      <td>0.0</td>\n",
       "      <td>0.0</td>\n",
       "      <td>0.0</td>\n",
       "      <td>0.0</td>\n",
       "      <td>...</td>\n",
       "      <td>0.0</td>\n",
       "      <td>0.0</td>\n",
       "      <td>0.0</td>\n",
       "      <td>0.0</td>\n",
       "      <td>0.0</td>\n",
       "      <td>0.0</td>\n",
       "      <td>0.0</td>\n",
       "      <td>1.0</td>\n",
       "      <td>0.0</td>\n",
       "      <td>0.0</td>\n",
       "    </tr>\n",
       "    <tr>\n",
       "      <th>1</th>\n",
       "      <td>1.0</td>\n",
       "      <td>0.0</td>\n",
       "      <td>0.435556</td>\n",
       "      <td>-1.277793</td>\n",
       "      <td>0.0</td>\n",
       "      <td>0.0</td>\n",
       "      <td>0.0</td>\n",
       "      <td>1.0</td>\n",
       "      <td>0.0</td>\n",
       "      <td>0.0</td>\n",
       "      <td>...</td>\n",
       "      <td>0.0</td>\n",
       "      <td>0.0</td>\n",
       "      <td>0.0</td>\n",
       "      <td>0.0</td>\n",
       "      <td>0.0</td>\n",
       "      <td>0.0</td>\n",
       "      <td>0.0</td>\n",
       "      <td>0.0</td>\n",
       "      <td>0.0</td>\n",
       "      <td>0.0</td>\n",
       "    </tr>\n",
       "    <tr>\n",
       "      <th>2</th>\n",
       "      <td>0.0</td>\n",
       "      <td>-1.0</td>\n",
       "      <td>0.175556</td>\n",
       "      <td>0.544723</td>\n",
       "      <td>0.0</td>\n",
       "      <td>0.0</td>\n",
       "      <td>0.0</td>\n",
       "      <td>1.0</td>\n",
       "      <td>0.0</td>\n",
       "      <td>0.0</td>\n",
       "      <td>...</td>\n",
       "      <td>0.0</td>\n",
       "      <td>0.0</td>\n",
       "      <td>0.0</td>\n",
       "      <td>0.0</td>\n",
       "      <td>0.0</td>\n",
       "      <td>0.0</td>\n",
       "      <td>0.0</td>\n",
       "      <td>0.0</td>\n",
       "      <td>0.0</td>\n",
       "      <td>0.0</td>\n",
       "    </tr>\n",
       "    <tr>\n",
       "      <th>3</th>\n",
       "      <td>1.0</td>\n",
       "      <td>1.0</td>\n",
       "      <td>0.640000</td>\n",
       "      <td>-1.453660</td>\n",
       "      <td>0.0</td>\n",
       "      <td>0.0</td>\n",
       "      <td>0.0</td>\n",
       "      <td>1.0</td>\n",
       "      <td>0.0</td>\n",
       "      <td>0.0</td>\n",
       "      <td>...</td>\n",
       "      <td>0.0</td>\n",
       "      <td>0.0</td>\n",
       "      <td>0.0</td>\n",
       "      <td>0.0</td>\n",
       "      <td>0.0</td>\n",
       "      <td>0.0</td>\n",
       "      <td>1.0</td>\n",
       "      <td>0.0</td>\n",
       "      <td>0.0</td>\n",
       "      <td>0.0</td>\n",
       "    </tr>\n",
       "    <tr>\n",
       "      <th>4</th>\n",
       "      <td>0.0</td>\n",
       "      <td>-1.0</td>\n",
       "      <td>-0.655556</td>\n",
       "      <td>1.001852</td>\n",
       "      <td>0.0</td>\n",
       "      <td>0.0</td>\n",
       "      <td>0.0</td>\n",
       "      <td>1.0</td>\n",
       "      <td>0.0</td>\n",
       "      <td>0.0</td>\n",
       "      <td>...</td>\n",
       "      <td>0.0</td>\n",
       "      <td>0.0</td>\n",
       "      <td>0.0</td>\n",
       "      <td>0.0</td>\n",
       "      <td>0.0</td>\n",
       "      <td>0.0</td>\n",
       "      <td>0.0</td>\n",
       "      <td>0.0</td>\n",
       "      <td>0.0</td>\n",
       "      <td>0.0</td>\n",
       "    </tr>\n",
       "    <tr>\n",
       "      <th>...</th>\n",
       "      <td>...</td>\n",
       "      <td>...</td>\n",
       "      <td>...</td>\n",
       "      <td>...</td>\n",
       "      <td>...</td>\n",
       "      <td>...</td>\n",
       "      <td>...</td>\n",
       "      <td>...</td>\n",
       "      <td>...</td>\n",
       "      <td>...</td>\n",
       "      <td>...</td>\n",
       "      <td>...</td>\n",
       "      <td>...</td>\n",
       "      <td>...</td>\n",
       "      <td>...</td>\n",
       "      <td>...</td>\n",
       "      <td>...</td>\n",
       "      <td>...</td>\n",
       "      <td>...</td>\n",
       "      <td>...</td>\n",
       "      <td>...</td>\n",
       "    </tr>\n",
       "    <tr>\n",
       "      <th>7898</th>\n",
       "      <td>0.0</td>\n",
       "      <td>2.0</td>\n",
       "      <td>0.168889</td>\n",
       "      <td>0.304229</td>\n",
       "      <td>0.0</td>\n",
       "      <td>1.0</td>\n",
       "      <td>0.0</td>\n",
       "      <td>0.0</td>\n",
       "      <td>0.0</td>\n",
       "      <td>0.0</td>\n",
       "      <td>...</td>\n",
       "      <td>0.0</td>\n",
       "      <td>0.0</td>\n",
       "      <td>0.0</td>\n",
       "      <td>0.0</td>\n",
       "      <td>0.0</td>\n",
       "      <td>0.0</td>\n",
       "      <td>0.0</td>\n",
       "      <td>0.0</td>\n",
       "      <td>0.0</td>\n",
       "      <td>0.0</td>\n",
       "    </tr>\n",
       "    <tr>\n",
       "      <th>7899</th>\n",
       "      <td>0.0</td>\n",
       "      <td>0.0</td>\n",
       "      <td>0.046667</td>\n",
       "      <td>0.989955</td>\n",
       "      <td>0.0</td>\n",
       "      <td>0.0</td>\n",
       "      <td>0.0</td>\n",
       "      <td>1.0</td>\n",
       "      <td>0.0</td>\n",
       "      <td>0.0</td>\n",
       "      <td>...</td>\n",
       "      <td>0.0</td>\n",
       "      <td>0.0</td>\n",
       "      <td>0.0</td>\n",
       "      <td>0.0</td>\n",
       "      <td>0.0</td>\n",
       "      <td>0.0</td>\n",
       "      <td>0.0</td>\n",
       "      <td>0.0</td>\n",
       "      <td>0.0</td>\n",
       "      <td>0.0</td>\n",
       "    </tr>\n",
       "    <tr>\n",
       "      <th>7900</th>\n",
       "      <td>0.0</td>\n",
       "      <td>-1.0</td>\n",
       "      <td>0.091111</td>\n",
       "      <td>0.505724</td>\n",
       "      <td>0.0</td>\n",
       "      <td>1.0</td>\n",
       "      <td>0.0</td>\n",
       "      <td>0.0</td>\n",
       "      <td>0.0</td>\n",
       "      <td>0.0</td>\n",
       "      <td>...</td>\n",
       "      <td>0.0</td>\n",
       "      <td>0.0</td>\n",
       "      <td>0.0</td>\n",
       "      <td>0.0</td>\n",
       "      <td>0.0</td>\n",
       "      <td>0.0</td>\n",
       "      <td>0.0</td>\n",
       "      <td>0.0</td>\n",
       "      <td>0.0</td>\n",
       "      <td>0.0</td>\n",
       "    </tr>\n",
       "    <tr>\n",
       "      <th>7901</th>\n",
       "      <td>0.0</td>\n",
       "      <td>0.0</td>\n",
       "      <td>-0.697778</td>\n",
       "      <td>-1.474314</td>\n",
       "      <td>0.0</td>\n",
       "      <td>1.0</td>\n",
       "      <td>0.0</td>\n",
       "      <td>0.0</td>\n",
       "      <td>0.0</td>\n",
       "      <td>0.0</td>\n",
       "      <td>...</td>\n",
       "      <td>0.0</td>\n",
       "      <td>0.0</td>\n",
       "      <td>0.0</td>\n",
       "      <td>0.0</td>\n",
       "      <td>0.0</td>\n",
       "      <td>0.0</td>\n",
       "      <td>0.0</td>\n",
       "      <td>0.0</td>\n",
       "      <td>0.0</td>\n",
       "      <td>0.0</td>\n",
       "    </tr>\n",
       "    <tr>\n",
       "      <th>7902</th>\n",
       "      <td>1.0</td>\n",
       "      <td>0.0</td>\n",
       "      <td>0.613333</td>\n",
       "      <td>-0.163089</td>\n",
       "      <td>0.0</td>\n",
       "      <td>1.0</td>\n",
       "      <td>0.0</td>\n",
       "      <td>0.0</td>\n",
       "      <td>0.0</td>\n",
       "      <td>0.0</td>\n",
       "      <td>...</td>\n",
       "      <td>0.0</td>\n",
       "      <td>0.0</td>\n",
       "      <td>1.0</td>\n",
       "      <td>0.0</td>\n",
       "      <td>0.0</td>\n",
       "      <td>0.0</td>\n",
       "      <td>0.0</td>\n",
       "      <td>0.0</td>\n",
       "      <td>0.0</td>\n",
       "      <td>0.0</td>\n",
       "    </tr>\n",
       "  </tbody>\n",
       "</table>\n",
       "<p>7903 rows × 59 columns</p>\n",
       "</div>"
      ],
      "text/plain": [
       "      robust_scaled__bathrooms  robust_scaled__bedrooms  \\\n",
       "0                          0.0                     -1.0   \n",
       "1                          1.0                      0.0   \n",
       "2                          0.0                     -1.0   \n",
       "3                          1.0                      1.0   \n",
       "4                          0.0                     -1.0   \n",
       "...                        ...                      ...   \n",
       "7898                       0.0                      2.0   \n",
       "7899                       0.0                      0.0   \n",
       "7900                       0.0                     -1.0   \n",
       "7901                       0.0                      0.0   \n",
       "7902                       1.0                      0.0   \n",
       "\n",
       "      robust_scaled__square_feet  robust_scaled__longitude  \\\n",
       "0                       0.317778                  0.216324   \n",
       "1                       0.435556                 -1.277793   \n",
       "2                       0.175556                  0.544723   \n",
       "3                       0.640000                 -1.453660   \n",
       "4                      -0.655556                  1.001852   \n",
       "...                          ...                       ...   \n",
       "7898                    0.168889                  0.304229   \n",
       "7899                    0.046667                  0.989955   \n",
       "7900                    0.091111                  0.505724   \n",
       "7901                   -0.697778                 -1.474314   \n",
       "7902                    0.613333                 -0.163089   \n",
       "\n",
       "      hot_encoded__pets_allowed_Cats  hot_encoded__pets_allowed_Cats,Dogs  \\\n",
       "0                                0.0                                  1.0   \n",
       "1                                0.0                                  0.0   \n",
       "2                                0.0                                  0.0   \n",
       "3                                0.0                                  0.0   \n",
       "4                                0.0                                  0.0   \n",
       "...                              ...                                  ...   \n",
       "7898                             0.0                                  1.0   \n",
       "7899                             0.0                                  0.0   \n",
       "7900                             0.0                                  1.0   \n",
       "7901                             0.0                                  1.0   \n",
       "7902                             0.0                                  1.0   \n",
       "\n",
       "      hot_encoded__pets_allowed_Dogs  hot_encoded__pets_allowed_not allowed  \\\n",
       "0                                0.0                                    0.0   \n",
       "1                                0.0                                    1.0   \n",
       "2                                0.0                                    1.0   \n",
       "3                                0.0                                    1.0   \n",
       "4                                0.0                                    1.0   \n",
       "...                              ...                                    ...   \n",
       "7898                             0.0                                    0.0   \n",
       "7899                             0.0                                    1.0   \n",
       "7900                             0.0                                    0.0   \n",
       "7901                             0.0                                    0.0   \n",
       "7902                             0.0                                    0.0   \n",
       "\n",
       "      hot_encoded__state_AK  hot_encoded__state_AL  ...  \\\n",
       "0                       0.0                    0.0  ...   \n",
       "1                       0.0                    0.0  ...   \n",
       "2                       0.0                    0.0  ...   \n",
       "3                       0.0                    0.0  ...   \n",
       "4                       0.0                    0.0  ...   \n",
       "...                     ...                    ...  ...   \n",
       "7898                    0.0                    0.0  ...   \n",
       "7899                    0.0                    0.0  ...   \n",
       "7900                    0.0                    0.0  ...   \n",
       "7901                    0.0                    0.0  ...   \n",
       "7902                    0.0                    0.0  ...   \n",
       "\n",
       "      hot_encoded__state_SD  hot_encoded__state_TN  hot_encoded__state_TX  \\\n",
       "0                       0.0                    0.0                    0.0   \n",
       "1                       0.0                    0.0                    0.0   \n",
       "2                       0.0                    0.0                    0.0   \n",
       "3                       0.0                    0.0                    0.0   \n",
       "4                       0.0                    0.0                    0.0   \n",
       "...                     ...                    ...                    ...   \n",
       "7898                    0.0                    0.0                    0.0   \n",
       "7899                    0.0                    0.0                    0.0   \n",
       "7900                    0.0                    0.0                    0.0   \n",
       "7901                    0.0                    0.0                    0.0   \n",
       "7902                    0.0                    0.0                    1.0   \n",
       "\n",
       "      hot_encoded__state_UT  hot_encoded__state_VA  hot_encoded__state_VT  \\\n",
       "0                       0.0                    0.0                    0.0   \n",
       "1                       0.0                    0.0                    0.0   \n",
       "2                       0.0                    0.0                    0.0   \n",
       "3                       0.0                    0.0                    0.0   \n",
       "4                       0.0                    0.0                    0.0   \n",
       "...                     ...                    ...                    ...   \n",
       "7898                    0.0                    0.0                    0.0   \n",
       "7899                    0.0                    0.0                    0.0   \n",
       "7900                    0.0                    0.0                    0.0   \n",
       "7901                    0.0                    0.0                    0.0   \n",
       "7902                    0.0                    0.0                    0.0   \n",
       "\n",
       "      hot_encoded__state_WA  hot_encoded__state_WI  hot_encoded__state_WV  \\\n",
       "0                       0.0                    1.0                    0.0   \n",
       "1                       0.0                    0.0                    0.0   \n",
       "2                       0.0                    0.0                    0.0   \n",
       "3                       1.0                    0.0                    0.0   \n",
       "4                       0.0                    0.0                    0.0   \n",
       "...                     ...                    ...                    ...   \n",
       "7898                    0.0                    0.0                    0.0   \n",
       "7899                    0.0                    0.0                    0.0   \n",
       "7900                    0.0                    0.0                    0.0   \n",
       "7901                    0.0                    0.0                    0.0   \n",
       "7902                    0.0                    0.0                    0.0   \n",
       "\n",
       "      hot_encoded__state_WY  \n",
       "0                       0.0  \n",
       "1                       0.0  \n",
       "2                       0.0  \n",
       "3                       0.0  \n",
       "4                       0.0  \n",
       "...                     ...  \n",
       "7898                    0.0  \n",
       "7899                    0.0  \n",
       "7900                    0.0  \n",
       "7901                    0.0  \n",
       "7902                    0.0  \n",
       "\n",
       "[7903 rows x 59 columns]"
      ]
     },
     "execution_count": 37,
     "metadata": {},
     "output_type": "execute_result"
    }
   ],
   "source": [
    "# cek hasil preprocessing\n",
    "X_train_preprocessed_df = pd.DataFrame(X_train_preprocessed,columns=preprocessing_df.get_feature_names_out())\n",
    "X_train_preprocessed_df"
   ]
  },
  {
   "cell_type": "markdown",
   "metadata": {},
   "source": [
    "# 6 MODEL DEFINITION"
   ]
  },
  {
   "cell_type": "markdown",
   "metadata": {},
   "source": [
    ">Model yang akan dibandingkan adalah KNN Regressor, SVM Regressor, DecisionTree Regressor, RandomForest Regressor dan XGBoost Regressor.<br>\n",
    "- `KNN Regressor`: non parametrik, robust terhadap outlier karena hanya memperhatikan tetangga terdekat.\n",
    "- `SVM Regressor`: mampu mempelajari data dengan dimensi tinggi karena belajar menggunakan nilai jarak, mampu membaca pola non-linear.\n",
    "- `DecisionTree Regressor`: mampu membaca pola non-linear karena menggunakan metode splitting data berdasarkan nilai gini (kemurnian data), mampu mempelajari data campuran numerik dan kategorik dengan baik.\n",
    "- `RandomForest Regressor`: merupakan bagging (ensamble learning) dari DecisionTree sehingga dapat menutupi kekurangannya berupa kecenderungan overfitting, mampu mempelajari pola pada data yang besar dan memiliki banyak fitur.\n",
    "- `XGBoost Regressor`: baik dalam menangani overfitting, cepat dan efisien, cocok untuk data yang tidak terstruktur."
   ]
  },
  {
   "cell_type": "code",
   "execution_count": 38,
   "metadata": {},
   "outputs": [],
   "source": [
    "# buat instance model-model yang akan digunakan\n",
    "knn = KNeighborsRegressor()\n",
    "svm = SVR()\n",
    "dt = DecisionTreeRegressor(random_state=69)\n",
    "rf = RandomForestRegressor(random_state=70)\n",
    "xgboost = xgb.XGBRegressor(random_state=69)"
   ]
  },
  {
   "cell_type": "markdown",
   "metadata": {},
   "source": [
    "# 7 MODEL TRAINING"
   ]
  },
  {
   "cell_type": "markdown",
   "metadata": {},
   "source": [
    ">Pelatihan model akan dilakukan menggunakan pipeline, karena akan dilakukan perbandingan antara 5 algoritma, maka akan dibuat 5 pipeline."
   ]
  },
  {
   "cell_type": "code",
   "execution_count": 39,
   "metadata": {},
   "outputs": [],
   "source": [
    "# buat pipeline\n",
    "pipe_knn = Pipeline([('preprocessing', preprocessing_df),\n",
    "                    ('knn', knn)])\n",
    "\n",
    "pipe_svm = Pipeline([('preprocessing', preprocessing_df),\n",
    "                    ('svm', svm)])\n",
    "\n",
    "pipe_dt = Pipeline([('preprocessing', preprocessing_df),\n",
    "                    ('dt', dt)])\n",
    "\n",
    "pipe_rf = Pipeline([('preprocessing', preprocessing_df),\n",
    "                    ('rf', rf)])\n",
    "\n",
    "pipe_xgboost = Pipeline([('preprocessing', preprocessing_df),\n",
    "                    ('xgboost', xgboost)])"
   ]
  },
  {
   "cell_type": "markdown",
   "metadata": {},
   "source": [
    "Untuk menyederhanakan proses, dibuat for loops untuk melatih 5 model tersebut sekaligus crossvalidation di dalamnya. Skor evaluasi yang akan digunakan adalah Mean Absolute Error (MAE) dan model yang akan dipilih adalah model dengan MAE terkecil."
   ]
  },
  {
   "cell_type": "code",
   "execution_count": 40,
   "metadata": {},
   "outputs": [
    {
     "name": "stdout",
     "output_type": "stream",
     "text": [
      "Rata-rata MAE CV pipe_knn : 335.73029531061104\n",
      "Rata-rata MAE CV pipe_svm : 472.4099131230465\n",
      "Rata-rata MAE CV pipe_dt : 352.20874524282283\n",
      "Rata-rata MAE CV pipe_rf : 279.58162855281995\n",
      "Rata-rata MAE CV pipe_xgboost : 278.772329321347\n"
     ]
    }
   ],
   "source": [
    "# buat list nama model dan algoritma model\n",
    "algorithm = [\n",
    "    ('pipe_knn', pipe_knn),\n",
    "    ('pipe_svm', pipe_svm),\n",
    "    ('pipe_dt', pipe_dt),\n",
    "    ('pipe_rf', pipe_rf),\n",
    "    ('pipe_xgboost', pipe_xgboost)\n",
    "]\n",
    "\n",
    "# loop untuk setiap model dalam daftar\n",
    "for name, algo in algorithm:\n",
    "    # lakukan cross-validation dengan scoring mae\n",
    "    cv_score = -cross_val_score(estimator=algo,\n",
    "                                X=X_train,\n",
    "                                y=y_train,\n",
    "                                cv=5,\n",
    "                                scoring='neg_mean_absolute_error')\n",
    "    # cetak rata-rata mae untuk setiap model\n",
    "    print(f'Rata-rata MAE CV {name} : {cv_score.mean()}')"
   ]
  },
  {
   "cell_type": "markdown",
   "metadata": {},
   "source": [
    "Algoritma terbaik untuk melatih model adalah `XGBoost Regressor` karena memiliki rata-rata Mean Absolute Error terkecil yaitu 278.772.<br>\n",
    "Selanjutnya akan dilakukan pelatihan model `XGBoost Regressor` dengan melakukan Hyper Parameter Tuning dengan harapan hasil MAE lebi772kecil lagi."
   ]
  },
  {
   "cell_type": "markdown",
   "metadata": {},
   "source": [
    "DISCLAIMER:<BR>\n",
    "Cell di bawah jika dijalankan membutuhkan waktu 5-10 menit, jika ingin dikurangi maka silahkan n_iter dikurangi (namun hasilnya bisa berbeda)"
   ]
  },
  {
   "cell_type": "code",
   "execution_count": 41,
   "metadata": {},
   "outputs": [
    {
     "name": "stdout",
     "output_type": "stream",
     "text": [
      "Fitting 5 folds for each of 1000 candidates, totalling 5000 fits\n"
     ]
    },
    {
     "data": {
      "text/html": [
       "<style>#sk-container-id-1 {color: black;}#sk-container-id-1 pre{padding: 0;}#sk-container-id-1 div.sk-toggleable {background-color: white;}#sk-container-id-1 label.sk-toggleable__label {cursor: pointer;display: block;width: 100%;margin-bottom: 0;padding: 0.3em;box-sizing: border-box;text-align: center;}#sk-container-id-1 label.sk-toggleable__label-arrow:before {content: \"▸\";float: left;margin-right: 0.25em;color: #696969;}#sk-container-id-1 label.sk-toggleable__label-arrow:hover:before {color: black;}#sk-container-id-1 div.sk-estimator:hover label.sk-toggleable__label-arrow:before {color: black;}#sk-container-id-1 div.sk-toggleable__content {max-height: 0;max-width: 0;overflow: hidden;text-align: left;background-color: #f0f8ff;}#sk-container-id-1 div.sk-toggleable__content pre {margin: 0.2em;color: black;border-radius: 0.25em;background-color: #f0f8ff;}#sk-container-id-1 input.sk-toggleable__control:checked~div.sk-toggleable__content {max-height: 200px;max-width: 100%;overflow: auto;}#sk-container-id-1 input.sk-toggleable__control:checked~label.sk-toggleable__label-arrow:before {content: \"▾\";}#sk-container-id-1 div.sk-estimator input.sk-toggleable__control:checked~label.sk-toggleable__label {background-color: #d4ebff;}#sk-container-id-1 div.sk-label input.sk-toggleable__control:checked~label.sk-toggleable__label {background-color: #d4ebff;}#sk-container-id-1 input.sk-hidden--visually {border: 0;clip: rect(1px 1px 1px 1px);clip: rect(1px, 1px, 1px, 1px);height: 1px;margin: -1px;overflow: hidden;padding: 0;position: absolute;width: 1px;}#sk-container-id-1 div.sk-estimator {font-family: monospace;background-color: #f0f8ff;border: 1px dotted black;border-radius: 0.25em;box-sizing: border-box;margin-bottom: 0.5em;}#sk-container-id-1 div.sk-estimator:hover {background-color: #d4ebff;}#sk-container-id-1 div.sk-parallel-item::after {content: \"\";width: 100%;border-bottom: 1px solid gray;flex-grow: 1;}#sk-container-id-1 div.sk-label:hover label.sk-toggleable__label {background-color: #d4ebff;}#sk-container-id-1 div.sk-serial::before {content: \"\";position: absolute;border-left: 1px solid gray;box-sizing: border-box;top: 0;bottom: 0;left: 50%;z-index: 0;}#sk-container-id-1 div.sk-serial {display: flex;flex-direction: column;align-items: center;background-color: white;padding-right: 0.2em;padding-left: 0.2em;position: relative;}#sk-container-id-1 div.sk-item {position: relative;z-index: 1;}#sk-container-id-1 div.sk-parallel {display: flex;align-items: stretch;justify-content: center;background-color: white;position: relative;}#sk-container-id-1 div.sk-item::before, #sk-container-id-1 div.sk-parallel-item::before {content: \"\";position: absolute;border-left: 1px solid gray;box-sizing: border-box;top: 0;bottom: 0;left: 50%;z-index: -1;}#sk-container-id-1 div.sk-parallel-item {display: flex;flex-direction: column;z-index: 1;position: relative;background-color: white;}#sk-container-id-1 div.sk-parallel-item:first-child::after {align-self: flex-end;width: 50%;}#sk-container-id-1 div.sk-parallel-item:last-child::after {align-self: flex-start;width: 50%;}#sk-container-id-1 div.sk-parallel-item:only-child::after {width: 0;}#sk-container-id-1 div.sk-dashed-wrapped {border: 1px dashed gray;margin: 0 0.4em 0.5em 0.4em;box-sizing: border-box;padding-bottom: 0.4em;background-color: white;}#sk-container-id-1 div.sk-label label {font-family: monospace;font-weight: bold;display: inline-block;line-height: 1.2em;}#sk-container-id-1 div.sk-label-container {text-align: center;}#sk-container-id-1 div.sk-container {/* jupyter's `normalize.less` sets `[hidden] { display: none; }` but bootstrap.min.css set `[hidden] { display: none !important; }` so we also need the `!important` here to be able to override the default hidden behavior on the sphinx rendered scikit-learn.org. See: https://github.com/scikit-learn/scikit-learn/issues/21755 */display: inline-block !important;position: relative;}#sk-container-id-1 div.sk-text-repr-fallback {display: none;}</style><div id=\"sk-container-id-1\" class=\"sk-top-container\"><div class=\"sk-text-repr-fallback\"><pre>RandomizedSearchCV(cv=5,\n",
       "                   estimator=Pipeline(steps=[(&#x27;preprocessing&#x27;,\n",
       "                                              ColumnTransformer(transformers=[(&#x27;robust_scaled&#x27;,\n",
       "                                                                               RobustScaler(),\n",
       "                                                                               [&#x27;bathrooms&#x27;,\n",
       "                                                                                &#x27;bedrooms&#x27;,\n",
       "                                                                                &#x27;square_feet&#x27;,\n",
       "                                                                                &#x27;longitude&#x27;]),\n",
       "                                                                              (&#x27;hot_encoded&#x27;,\n",
       "                                                                               OneHotEncoder(handle_unknown=&#x27;ignore&#x27;,\n",
       "                                                                                             sparse_output=False),\n",
       "                                                                               [&#x27;pets_allowed&#x27;,\n",
       "                                                                                &#x27;state&#x27;])])),\n",
       "                                             (&#x27;xgboost&#x27;,\n",
       "                                              XGBRegressor(base_score=None,\n",
       "                                                           booster=None,\n",
       "                                                           callbacks=N...\n",
       "                                                                      1.5, 2.0,\n",
       "                                                                      3.0],\n",
       "                                        &#x27;xgboost__learning_rate&#x27;: [0.01, 0.1,\n",
       "                                                                   0.2, 0.3,\n",
       "                                                                   0.4, 0.5],\n",
       "                                        &#x27;xgboost__max_depth&#x27;: [3, 5, 6, 9, 10],\n",
       "                                        &#x27;xgboost__min_child_weight&#x27;: [1, 3, 5,\n",
       "                                                                      7],\n",
       "                                        &#x27;xgboost__n_estimators&#x27;: [100, 200, 300,\n",
       "                                                                  500],\n",
       "                                        &#x27;xgboost__reg_alpha&#x27;: [0, 0.1, 1, 10],\n",
       "                                        &#x27;xgboost__reg_lambda&#x27;: [1, 10, 50, 100],\n",
       "                                        &#x27;xgboost__subsample&#x27;: [0.5, 1.0, 1.5,\n",
       "                                                               2.0, 3.0]},\n",
       "                   random_state=69, scoring=&#x27;neg_mean_absolute_error&#x27;,\n",
       "                   verbose=2)</pre><b>In a Jupyter environment, please rerun this cell to show the HTML representation or trust the notebook. <br />On GitHub, the HTML representation is unable to render, please try loading this page with nbviewer.org.</b></div><div class=\"sk-container\" hidden><div class=\"sk-item sk-dashed-wrapped\"><div class=\"sk-label-container\"><div class=\"sk-label sk-toggleable\"><input class=\"sk-toggleable__control sk-hidden--visually\" id=\"sk-estimator-id-1\" type=\"checkbox\" ><label for=\"sk-estimator-id-1\" class=\"sk-toggleable__label sk-toggleable__label-arrow\">RandomizedSearchCV</label><div class=\"sk-toggleable__content\"><pre>RandomizedSearchCV(cv=5,\n",
       "                   estimator=Pipeline(steps=[(&#x27;preprocessing&#x27;,\n",
       "                                              ColumnTransformer(transformers=[(&#x27;robust_scaled&#x27;,\n",
       "                                                                               RobustScaler(),\n",
       "                                                                               [&#x27;bathrooms&#x27;,\n",
       "                                                                                &#x27;bedrooms&#x27;,\n",
       "                                                                                &#x27;square_feet&#x27;,\n",
       "                                                                                &#x27;longitude&#x27;]),\n",
       "                                                                              (&#x27;hot_encoded&#x27;,\n",
       "                                                                               OneHotEncoder(handle_unknown=&#x27;ignore&#x27;,\n",
       "                                                                                             sparse_output=False),\n",
       "                                                                               [&#x27;pets_allowed&#x27;,\n",
       "                                                                                &#x27;state&#x27;])])),\n",
       "                                             (&#x27;xgboost&#x27;,\n",
       "                                              XGBRegressor(base_score=None,\n",
       "                                                           booster=None,\n",
       "                                                           callbacks=N...\n",
       "                                                                      1.5, 2.0,\n",
       "                                                                      3.0],\n",
       "                                        &#x27;xgboost__learning_rate&#x27;: [0.01, 0.1,\n",
       "                                                                   0.2, 0.3,\n",
       "                                                                   0.4, 0.5],\n",
       "                                        &#x27;xgboost__max_depth&#x27;: [3, 5, 6, 9, 10],\n",
       "                                        &#x27;xgboost__min_child_weight&#x27;: [1, 3, 5,\n",
       "                                                                      7],\n",
       "                                        &#x27;xgboost__n_estimators&#x27;: [100, 200, 300,\n",
       "                                                                  500],\n",
       "                                        &#x27;xgboost__reg_alpha&#x27;: [0, 0.1, 1, 10],\n",
       "                                        &#x27;xgboost__reg_lambda&#x27;: [1, 10, 50, 100],\n",
       "                                        &#x27;xgboost__subsample&#x27;: [0.5, 1.0, 1.5,\n",
       "                                                               2.0, 3.0]},\n",
       "                   random_state=69, scoring=&#x27;neg_mean_absolute_error&#x27;,\n",
       "                   verbose=2)</pre></div></div></div><div class=\"sk-parallel\"><div class=\"sk-parallel-item\"><div class=\"sk-item\"><div class=\"sk-label-container\"><div class=\"sk-label sk-toggleable\"><input class=\"sk-toggleable__control sk-hidden--visually\" id=\"sk-estimator-id-2\" type=\"checkbox\" ><label for=\"sk-estimator-id-2\" class=\"sk-toggleable__label sk-toggleable__label-arrow\">estimator: Pipeline</label><div class=\"sk-toggleable__content\"><pre>Pipeline(steps=[(&#x27;preprocessing&#x27;,\n",
       "                 ColumnTransformer(transformers=[(&#x27;robust_scaled&#x27;,\n",
       "                                                  RobustScaler(),\n",
       "                                                  [&#x27;bathrooms&#x27;, &#x27;bedrooms&#x27;,\n",
       "                                                   &#x27;square_feet&#x27;,\n",
       "                                                   &#x27;longitude&#x27;]),\n",
       "                                                 (&#x27;hot_encoded&#x27;,\n",
       "                                                  OneHotEncoder(handle_unknown=&#x27;ignore&#x27;,\n",
       "                                                                sparse_output=False),\n",
       "                                                  [&#x27;pets_allowed&#x27;, &#x27;state&#x27;])])),\n",
       "                (&#x27;xgboost&#x27;,\n",
       "                 XGBRegressor(base_score=None, booster=None, callbacks=None,\n",
       "                              colsample_bylevel=None, colsamp...\n",
       "                              feature_types=None, gamma=None, grow_policy=None,\n",
       "                              importance_type=None,\n",
       "                              interaction_constraints=None, learning_rate=None,\n",
       "                              max_bin=None, max_cat_threshold=None,\n",
       "                              max_cat_to_onehot=None, max_delta_step=None,\n",
       "                              max_depth=None, max_leaves=None,\n",
       "                              min_child_weight=None, missing=nan,\n",
       "                              monotone_constraints=None, multi_strategy=None,\n",
       "                              n_estimators=None, n_jobs=None,\n",
       "                              num_parallel_tree=None, random_state=69, ...))])</pre></div></div></div><div class=\"sk-serial\"><div class=\"sk-item\"><div class=\"sk-serial\"><div class=\"sk-item sk-dashed-wrapped\"><div class=\"sk-label-container\"><div class=\"sk-label sk-toggleable\"><input class=\"sk-toggleable__control sk-hidden--visually\" id=\"sk-estimator-id-3\" type=\"checkbox\" ><label for=\"sk-estimator-id-3\" class=\"sk-toggleable__label sk-toggleable__label-arrow\">preprocessing: ColumnTransformer</label><div class=\"sk-toggleable__content\"><pre>ColumnTransformer(transformers=[(&#x27;robust_scaled&#x27;, RobustScaler(),\n",
       "                                 [&#x27;bathrooms&#x27;, &#x27;bedrooms&#x27;, &#x27;square_feet&#x27;,\n",
       "                                  &#x27;longitude&#x27;]),\n",
       "                                (&#x27;hot_encoded&#x27;,\n",
       "                                 OneHotEncoder(handle_unknown=&#x27;ignore&#x27;,\n",
       "                                               sparse_output=False),\n",
       "                                 [&#x27;pets_allowed&#x27;, &#x27;state&#x27;])])</pre></div></div></div><div class=\"sk-parallel\"><div class=\"sk-parallel-item\"><div class=\"sk-item\"><div class=\"sk-label-container\"><div class=\"sk-label sk-toggleable\"><input class=\"sk-toggleable__control sk-hidden--visually\" id=\"sk-estimator-id-4\" type=\"checkbox\" ><label for=\"sk-estimator-id-4\" class=\"sk-toggleable__label sk-toggleable__label-arrow\">robust_scaled</label><div class=\"sk-toggleable__content\"><pre>[&#x27;bathrooms&#x27;, &#x27;bedrooms&#x27;, &#x27;square_feet&#x27;, &#x27;longitude&#x27;]</pre></div></div></div><div class=\"sk-serial\"><div class=\"sk-item\"><div class=\"sk-estimator sk-toggleable\"><input class=\"sk-toggleable__control sk-hidden--visually\" id=\"sk-estimator-id-5\" type=\"checkbox\" ><label for=\"sk-estimator-id-5\" class=\"sk-toggleable__label sk-toggleable__label-arrow\">RobustScaler</label><div class=\"sk-toggleable__content\"><pre>RobustScaler()</pre></div></div></div></div></div></div><div class=\"sk-parallel-item\"><div class=\"sk-item\"><div class=\"sk-label-container\"><div class=\"sk-label sk-toggleable\"><input class=\"sk-toggleable__control sk-hidden--visually\" id=\"sk-estimator-id-6\" type=\"checkbox\" ><label for=\"sk-estimator-id-6\" class=\"sk-toggleable__label sk-toggleable__label-arrow\">hot_encoded</label><div class=\"sk-toggleable__content\"><pre>[&#x27;pets_allowed&#x27;, &#x27;state&#x27;]</pre></div></div></div><div class=\"sk-serial\"><div class=\"sk-item\"><div class=\"sk-estimator sk-toggleable\"><input class=\"sk-toggleable__control sk-hidden--visually\" id=\"sk-estimator-id-7\" type=\"checkbox\" ><label for=\"sk-estimator-id-7\" class=\"sk-toggleable__label sk-toggleable__label-arrow\">OneHotEncoder</label><div class=\"sk-toggleable__content\"><pre>OneHotEncoder(handle_unknown=&#x27;ignore&#x27;, sparse_output=False)</pre></div></div></div></div></div></div></div></div><div class=\"sk-item\"><div class=\"sk-estimator sk-toggleable\"><input class=\"sk-toggleable__control sk-hidden--visually\" id=\"sk-estimator-id-8\" type=\"checkbox\" ><label for=\"sk-estimator-id-8\" class=\"sk-toggleable__label sk-toggleable__label-arrow\">XGBRegressor</label><div class=\"sk-toggleable__content\"><pre>XGBRegressor(base_score=None, booster=None, callbacks=None,\n",
       "             colsample_bylevel=None, colsample_bynode=None,\n",
       "             colsample_bytree=None, device=None, early_stopping_rounds=None,\n",
       "             enable_categorical=False, eval_metric=None, feature_types=None,\n",
       "             gamma=None, grow_policy=None, importance_type=None,\n",
       "             interaction_constraints=None, learning_rate=None, max_bin=None,\n",
       "             max_cat_threshold=None, max_cat_to_onehot=None,\n",
       "             max_delta_step=None, max_depth=None, max_leaves=None,\n",
       "             min_child_weight=None, missing=nan, monotone_constraints=None,\n",
       "             multi_strategy=None, n_estimators=None, n_jobs=None,\n",
       "             num_parallel_tree=None, random_state=69, ...)</pre></div></div></div></div></div></div></div></div></div></div></div></div>"
      ],
      "text/plain": [
       "RandomizedSearchCV(cv=5,\n",
       "                   estimator=Pipeline(steps=[('preprocessing',\n",
       "                                              ColumnTransformer(transformers=[('robust_scaled',\n",
       "                                                                               RobustScaler(),\n",
       "                                                                               ['bathrooms',\n",
       "                                                                                'bedrooms',\n",
       "                                                                                'square_feet',\n",
       "                                                                                'longitude']),\n",
       "                                                                              ('hot_encoded',\n",
       "                                                                               OneHotEncoder(handle_unknown='ignore',\n",
       "                                                                                             sparse_output=False),\n",
       "                                                                               ['pets_allowed',\n",
       "                                                                                'state'])])),\n",
       "                                             ('xgboost',\n",
       "                                              XGBRegressor(base_score=None,\n",
       "                                                           booster=None,\n",
       "                                                           callbacks=N...\n",
       "                                                                      1.5, 2.0,\n",
       "                                                                      3.0],\n",
       "                                        'xgboost__learning_rate': [0.01, 0.1,\n",
       "                                                                   0.2, 0.3,\n",
       "                                                                   0.4, 0.5],\n",
       "                                        'xgboost__max_depth': [3, 5, 6, 9, 10],\n",
       "                                        'xgboost__min_child_weight': [1, 3, 5,\n",
       "                                                                      7],\n",
       "                                        'xgboost__n_estimators': [100, 200, 300,\n",
       "                                                                  500],\n",
       "                                        'xgboost__reg_alpha': [0, 0.1, 1, 10],\n",
       "                                        'xgboost__reg_lambda': [1, 10, 50, 100],\n",
       "                                        'xgboost__subsample': [0.5, 1.0, 1.5,\n",
       "                                                               2.0, 3.0]},\n",
       "                   random_state=69, scoring='neg_mean_absolute_error',\n",
       "                   verbose=2)"
      ]
     },
     "execution_count": 41,
     "metadata": {},
     "output_type": "execute_result"
    }
   ],
   "source": [
    "# buat nilai dari hyperparameter yang akan di-tune\n",
    "param_distributions = {\n",
    "    'xgboost__n_estimators': [100, 200, 300, 500],  # Jumlah boosting rounds\n",
    "    'xgboost__learning_rate': [0.01, 0.1, 0.2, 0.3, 0.4, 0.5],  # Tingkat pembelajaran\n",
    "    'xgboost__max_depth': [3, 5, 6, 9, 10],  # Kedalaman maksimum pohon\n",
    "    'xgboost__subsample': [0.5, 1.0, 1.5, 2.0, 3.0],  # Proporsi data yang digunakan\n",
    "    'xgboost__colsample_bytree': [0.5, 1.0, 1.5, 2.0, 3.0],  # Proporsi fitur yang digunakan\n",
    "    'xgboost__min_child_weight': [1, 3, 5, 7],  # Berat minimum untuk split\n",
    "    'xgboost__reg_alpha': [0, 0.1, 1, 10],  # Regularisasi L1\n",
    "    'xgboost__reg_lambda': [1, 10, 50, 100],  # Regularisasi L2\n",
    "}\n",
    "\n",
    "# lakukan hyperparameter tuning dengan RandomizedSearchCV\n",
    "xgb_cv_tuned = RandomizedSearchCV(estimator=pipe_xgboost,\n",
    "                                param_distributions=param_distributions,\n",
    "                                n_iter=1000,\n",
    "                                scoring='neg_mean_absolute_error',\n",
    "                                cv=5,\n",
    "                                verbose=2,\n",
    "                                random_state=69,\n",
    "                                n_jobs=-1)\n",
    "\n",
    "# fit RandomizedSearchCV ke data train\n",
    "xgb_cv_tuned.fit(X_train, y_train)"
   ]
  },
  {
   "cell_type": "code",
   "execution_count": 42,
   "metadata": {},
   "outputs": [
    {
     "name": "stdout",
     "output_type": "stream",
     "text": [
      "Best Parameters: {'xgboost__subsample': 1.0, 'xgboost__reg_lambda': 10, 'xgboost__reg_alpha': 1, 'xgboost__n_estimators': 100, 'xgboost__min_child_weight': 3, 'xgboost__max_depth': 9, 'xgboost__learning_rate': 0.2, 'xgboost__colsample_bytree': 0.5}\n",
      "Best MAE Score: 278.64175165536193\n"
     ]
    }
   ],
   "source": [
    "# tampilkan hasil terbaik\n",
    "print(\"Best Parameters:\", xgb_cv_tuned.best_params_)\n",
    "print(\"Best MAE Score:\", -xgb_cv_tuned.best_score_)"
   ]
  },
  {
   "cell_type": "code",
   "execution_count": 43,
   "metadata": {},
   "outputs": [
    {
     "data": {
      "text/html": [
       "<style>#sk-container-id-2 {color: black;}#sk-container-id-2 pre{padding: 0;}#sk-container-id-2 div.sk-toggleable {background-color: white;}#sk-container-id-2 label.sk-toggleable__label {cursor: pointer;display: block;width: 100%;margin-bottom: 0;padding: 0.3em;box-sizing: border-box;text-align: center;}#sk-container-id-2 label.sk-toggleable__label-arrow:before {content: \"▸\";float: left;margin-right: 0.25em;color: #696969;}#sk-container-id-2 label.sk-toggleable__label-arrow:hover:before {color: black;}#sk-container-id-2 div.sk-estimator:hover label.sk-toggleable__label-arrow:before {color: black;}#sk-container-id-2 div.sk-toggleable__content {max-height: 0;max-width: 0;overflow: hidden;text-align: left;background-color: #f0f8ff;}#sk-container-id-2 div.sk-toggleable__content pre {margin: 0.2em;color: black;border-radius: 0.25em;background-color: #f0f8ff;}#sk-container-id-2 input.sk-toggleable__control:checked~div.sk-toggleable__content {max-height: 200px;max-width: 100%;overflow: auto;}#sk-container-id-2 input.sk-toggleable__control:checked~label.sk-toggleable__label-arrow:before {content: \"▾\";}#sk-container-id-2 div.sk-estimator input.sk-toggleable__control:checked~label.sk-toggleable__label {background-color: #d4ebff;}#sk-container-id-2 div.sk-label input.sk-toggleable__control:checked~label.sk-toggleable__label {background-color: #d4ebff;}#sk-container-id-2 input.sk-hidden--visually {border: 0;clip: rect(1px 1px 1px 1px);clip: rect(1px, 1px, 1px, 1px);height: 1px;margin: -1px;overflow: hidden;padding: 0;position: absolute;width: 1px;}#sk-container-id-2 div.sk-estimator {font-family: monospace;background-color: #f0f8ff;border: 1px dotted black;border-radius: 0.25em;box-sizing: border-box;margin-bottom: 0.5em;}#sk-container-id-2 div.sk-estimator:hover {background-color: #d4ebff;}#sk-container-id-2 div.sk-parallel-item::after {content: \"\";width: 100%;border-bottom: 1px solid gray;flex-grow: 1;}#sk-container-id-2 div.sk-label:hover label.sk-toggleable__label {background-color: #d4ebff;}#sk-container-id-2 div.sk-serial::before {content: \"\";position: absolute;border-left: 1px solid gray;box-sizing: border-box;top: 0;bottom: 0;left: 50%;z-index: 0;}#sk-container-id-2 div.sk-serial {display: flex;flex-direction: column;align-items: center;background-color: white;padding-right: 0.2em;padding-left: 0.2em;position: relative;}#sk-container-id-2 div.sk-item {position: relative;z-index: 1;}#sk-container-id-2 div.sk-parallel {display: flex;align-items: stretch;justify-content: center;background-color: white;position: relative;}#sk-container-id-2 div.sk-item::before, #sk-container-id-2 div.sk-parallel-item::before {content: \"\";position: absolute;border-left: 1px solid gray;box-sizing: border-box;top: 0;bottom: 0;left: 50%;z-index: -1;}#sk-container-id-2 div.sk-parallel-item {display: flex;flex-direction: column;z-index: 1;position: relative;background-color: white;}#sk-container-id-2 div.sk-parallel-item:first-child::after {align-self: flex-end;width: 50%;}#sk-container-id-2 div.sk-parallel-item:last-child::after {align-self: flex-start;width: 50%;}#sk-container-id-2 div.sk-parallel-item:only-child::after {width: 0;}#sk-container-id-2 div.sk-dashed-wrapped {border: 1px dashed gray;margin: 0 0.4em 0.5em 0.4em;box-sizing: border-box;padding-bottom: 0.4em;background-color: white;}#sk-container-id-2 div.sk-label label {font-family: monospace;font-weight: bold;display: inline-block;line-height: 1.2em;}#sk-container-id-2 div.sk-label-container {text-align: center;}#sk-container-id-2 div.sk-container {/* jupyter's `normalize.less` sets `[hidden] { display: none; }` but bootstrap.min.css set `[hidden] { display: none !important; }` so we also need the `!important` here to be able to override the default hidden behavior on the sphinx rendered scikit-learn.org. See: https://github.com/scikit-learn/scikit-learn/issues/21755 */display: inline-block !important;position: relative;}#sk-container-id-2 div.sk-text-repr-fallback {display: none;}</style><div id=\"sk-container-id-2\" class=\"sk-top-container\"><div class=\"sk-text-repr-fallback\"><pre>Pipeline(steps=[(&#x27;preprocessing&#x27;,\n",
       "                 ColumnTransformer(transformers=[(&#x27;robust_scaled&#x27;,\n",
       "                                                  RobustScaler(),\n",
       "                                                  [&#x27;bathrooms&#x27;, &#x27;bedrooms&#x27;,\n",
       "                                                   &#x27;square_feet&#x27;,\n",
       "                                                   &#x27;longitude&#x27;]),\n",
       "                                                 (&#x27;hot_encoded&#x27;,\n",
       "                                                  OneHotEncoder(handle_unknown=&#x27;ignore&#x27;,\n",
       "                                                                sparse_output=False),\n",
       "                                                  [&#x27;pets_allowed&#x27;, &#x27;state&#x27;])])),\n",
       "                (&#x27;xgboost&#x27;,\n",
       "                 XGBRegressor(base_score=None, booster=None, callbacks=None,\n",
       "                              colsample_bylevel=None, colsamp...\n",
       "                              feature_types=None, gamma=None, grow_policy=None,\n",
       "                              importance_type=None,\n",
       "                              interaction_constraints=None, learning_rate=0.2,\n",
       "                              max_bin=None, max_cat_threshold=None,\n",
       "                              max_cat_to_onehot=None, max_delta_step=None,\n",
       "                              max_depth=9, max_leaves=None, min_child_weight=3,\n",
       "                              missing=nan, monotone_constraints=None,\n",
       "                              multi_strategy=None, n_estimators=100,\n",
       "                              n_jobs=None, num_parallel_tree=None,\n",
       "                              random_state=69, ...))])</pre><b>In a Jupyter environment, please rerun this cell to show the HTML representation or trust the notebook. <br />On GitHub, the HTML representation is unable to render, please try loading this page with nbviewer.org.</b></div><div class=\"sk-container\" hidden><div class=\"sk-item sk-dashed-wrapped\"><div class=\"sk-label-container\"><div class=\"sk-label sk-toggleable\"><input class=\"sk-toggleable__control sk-hidden--visually\" id=\"sk-estimator-id-9\" type=\"checkbox\" ><label for=\"sk-estimator-id-9\" class=\"sk-toggleable__label sk-toggleable__label-arrow\">Pipeline</label><div class=\"sk-toggleable__content\"><pre>Pipeline(steps=[(&#x27;preprocessing&#x27;,\n",
       "                 ColumnTransformer(transformers=[(&#x27;robust_scaled&#x27;,\n",
       "                                                  RobustScaler(),\n",
       "                                                  [&#x27;bathrooms&#x27;, &#x27;bedrooms&#x27;,\n",
       "                                                   &#x27;square_feet&#x27;,\n",
       "                                                   &#x27;longitude&#x27;]),\n",
       "                                                 (&#x27;hot_encoded&#x27;,\n",
       "                                                  OneHotEncoder(handle_unknown=&#x27;ignore&#x27;,\n",
       "                                                                sparse_output=False),\n",
       "                                                  [&#x27;pets_allowed&#x27;, &#x27;state&#x27;])])),\n",
       "                (&#x27;xgboost&#x27;,\n",
       "                 XGBRegressor(base_score=None, booster=None, callbacks=None,\n",
       "                              colsample_bylevel=None, colsamp...\n",
       "                              feature_types=None, gamma=None, grow_policy=None,\n",
       "                              importance_type=None,\n",
       "                              interaction_constraints=None, learning_rate=0.2,\n",
       "                              max_bin=None, max_cat_threshold=None,\n",
       "                              max_cat_to_onehot=None, max_delta_step=None,\n",
       "                              max_depth=9, max_leaves=None, min_child_weight=3,\n",
       "                              missing=nan, monotone_constraints=None,\n",
       "                              multi_strategy=None, n_estimators=100,\n",
       "                              n_jobs=None, num_parallel_tree=None,\n",
       "                              random_state=69, ...))])</pre></div></div></div><div class=\"sk-serial\"><div class=\"sk-item sk-dashed-wrapped\"><div class=\"sk-label-container\"><div class=\"sk-label sk-toggleable\"><input class=\"sk-toggleable__control sk-hidden--visually\" id=\"sk-estimator-id-10\" type=\"checkbox\" ><label for=\"sk-estimator-id-10\" class=\"sk-toggleable__label sk-toggleable__label-arrow\">preprocessing: ColumnTransformer</label><div class=\"sk-toggleable__content\"><pre>ColumnTransformer(transformers=[(&#x27;robust_scaled&#x27;, RobustScaler(),\n",
       "                                 [&#x27;bathrooms&#x27;, &#x27;bedrooms&#x27;, &#x27;square_feet&#x27;,\n",
       "                                  &#x27;longitude&#x27;]),\n",
       "                                (&#x27;hot_encoded&#x27;,\n",
       "                                 OneHotEncoder(handle_unknown=&#x27;ignore&#x27;,\n",
       "                                               sparse_output=False),\n",
       "                                 [&#x27;pets_allowed&#x27;, &#x27;state&#x27;])])</pre></div></div></div><div class=\"sk-parallel\"><div class=\"sk-parallel-item\"><div class=\"sk-item\"><div class=\"sk-label-container\"><div class=\"sk-label sk-toggleable\"><input class=\"sk-toggleable__control sk-hidden--visually\" id=\"sk-estimator-id-11\" type=\"checkbox\" ><label for=\"sk-estimator-id-11\" class=\"sk-toggleable__label sk-toggleable__label-arrow\">robust_scaled</label><div class=\"sk-toggleable__content\"><pre>[&#x27;bathrooms&#x27;, &#x27;bedrooms&#x27;, &#x27;square_feet&#x27;, &#x27;longitude&#x27;]</pre></div></div></div><div class=\"sk-serial\"><div class=\"sk-item\"><div class=\"sk-estimator sk-toggleable\"><input class=\"sk-toggleable__control sk-hidden--visually\" id=\"sk-estimator-id-12\" type=\"checkbox\" ><label for=\"sk-estimator-id-12\" class=\"sk-toggleable__label sk-toggleable__label-arrow\">RobustScaler</label><div class=\"sk-toggleable__content\"><pre>RobustScaler()</pre></div></div></div></div></div></div><div class=\"sk-parallel-item\"><div class=\"sk-item\"><div class=\"sk-label-container\"><div class=\"sk-label sk-toggleable\"><input class=\"sk-toggleable__control sk-hidden--visually\" id=\"sk-estimator-id-13\" type=\"checkbox\" ><label for=\"sk-estimator-id-13\" class=\"sk-toggleable__label sk-toggleable__label-arrow\">hot_encoded</label><div class=\"sk-toggleable__content\"><pre>[&#x27;pets_allowed&#x27;, &#x27;state&#x27;]</pre></div></div></div><div class=\"sk-serial\"><div class=\"sk-item\"><div class=\"sk-estimator sk-toggleable\"><input class=\"sk-toggleable__control sk-hidden--visually\" id=\"sk-estimator-id-14\" type=\"checkbox\" ><label for=\"sk-estimator-id-14\" class=\"sk-toggleable__label sk-toggleable__label-arrow\">OneHotEncoder</label><div class=\"sk-toggleable__content\"><pre>OneHotEncoder(handle_unknown=&#x27;ignore&#x27;, sparse_output=False)</pre></div></div></div></div></div></div></div></div><div class=\"sk-item\"><div class=\"sk-estimator sk-toggleable\"><input class=\"sk-toggleable__control sk-hidden--visually\" id=\"sk-estimator-id-15\" type=\"checkbox\" ><label for=\"sk-estimator-id-15\" class=\"sk-toggleable__label sk-toggleable__label-arrow\">XGBRegressor</label><div class=\"sk-toggleable__content\"><pre>XGBRegressor(base_score=None, booster=None, callbacks=None,\n",
       "             colsample_bylevel=None, colsample_bynode=None,\n",
       "             colsample_bytree=0.5, device=None, early_stopping_rounds=None,\n",
       "             enable_categorical=False, eval_metric=None, feature_types=None,\n",
       "             gamma=None, grow_policy=None, importance_type=None,\n",
       "             interaction_constraints=None, learning_rate=0.2, max_bin=None,\n",
       "             max_cat_threshold=None, max_cat_to_onehot=None,\n",
       "             max_delta_step=None, max_depth=9, max_leaves=None,\n",
       "             min_child_weight=3, missing=nan, monotone_constraints=None,\n",
       "             multi_strategy=None, n_estimators=100, n_jobs=None,\n",
       "             num_parallel_tree=None, random_state=69, ...)</pre></div></div></div></div></div></div></div>"
      ],
      "text/plain": [
       "Pipeline(steps=[('preprocessing',\n",
       "                 ColumnTransformer(transformers=[('robust_scaled',\n",
       "                                                  RobustScaler(),\n",
       "                                                  ['bathrooms', 'bedrooms',\n",
       "                                                   'square_feet',\n",
       "                                                   'longitude']),\n",
       "                                                 ('hot_encoded',\n",
       "                                                  OneHotEncoder(handle_unknown='ignore',\n",
       "                                                                sparse_output=False),\n",
       "                                                  ['pets_allowed', 'state'])])),\n",
       "                ('xgboost',\n",
       "                 XGBRegressor(base_score=None, booster=None, callbacks=None,\n",
       "                              colsample_bylevel=None, colsamp...\n",
       "                              feature_types=None, gamma=None, grow_policy=None,\n",
       "                              importance_type=None,\n",
       "                              interaction_constraints=None, learning_rate=0.2,\n",
       "                              max_bin=None, max_cat_threshold=None,\n",
       "                              max_cat_to_onehot=None, max_delta_step=None,\n",
       "                              max_depth=9, max_leaves=None, min_child_weight=3,\n",
       "                              missing=nan, monotone_constraints=None,\n",
       "                              multi_strategy=None, n_estimators=100,\n",
       "                              n_jobs=None, num_parallel_tree=None,\n",
       "                              random_state=69, ...))])"
      ]
     },
     "execution_count": 43,
     "metadata": {},
     "output_type": "execute_result"
    }
   ],
   "source": [
    "# buat variabel berisi model dengan parameter terbaik\n",
    "xgb_enhanced = xgb_cv_tuned.best_estimator_\n",
    "xgb_enhanced"
   ]
  },
  {
   "cell_type": "markdown",
   "metadata": {},
   "source": [
    "# 8 MODEL EVALUATION"
   ]
  },
  {
   "cell_type": "code",
   "execution_count": 44,
   "metadata": {},
   "outputs": [
    {
     "name": "stdout",
     "output_type": "stream",
     "text": [
      "Hasil Evaluasi Model:\n",
      "Mean Absolute Error (MAE): 308.8280\n",
      "Mean Absolute Percentage Error (MAPE): 18.65%\n"
     ]
    }
   ],
   "source": [
    "# lakukan prediksi terhadap data test\n",
    "y_pred = xgb_enhanced.predict(X_test)\n",
    "\n",
    "# Hitung metrik evaluasi\n",
    "mae = mean_absolute_error(y_test, y_pred)\n",
    "mape = mean_absolute_percentage_error(y_test, y_pred)\n",
    "\n",
    "# Tampilkan hasil\n",
    "print(\"Hasil Evaluasi Model:\")\n",
    "print(f\"Mean Absolute Error (MAE): {mae:.4f}\")\n",
    "print(f\"Mean Absolute Percentage Error (MAPE): {mape * 100:.2f}%\")\n"
   ]
  },
  {
   "cell_type": "markdown",
   "metadata": {},
   "source": [
    "Hasil pelatihan model terhadap data train: MAE 279.32.<br>\n",
    "Hasil pelatihan model terhadap data test: MAE 308.26.<br>\n",
    "Nilai MAE yang naik sekitar 30 menandakan model kurang konsisten dan memiliki kecenderungan overfit.\n",
    "Namun jika dilihat secara relatif menggunakan nilai evaluasi Mean Absolute Percentage Error (MAPE) dengan nilai 18%, `performa model secara umum dapat dikatakan baik` karena nilai persentase tidak error yaitu 100%-18% = 82%."
   ]
  },
  {
   "cell_type": "markdown",
   "metadata": {},
   "source": [
    "# 9 MODEL SAVING"
   ]
  },
  {
   "cell_type": "markdown",
   "metadata": {},
   "source": [
    "Simpan model ke dalam file pkl untuk dipakai di medium lain."
   ]
  },
  {
   "cell_type": "code",
   "execution_count": 45,
   "metadata": {},
   "outputs": [],
   "source": [
    "# buat file untuk menyimpan model\n",
    "with open('xgb_enhanced.pkl', 'wb') as file_1:\n",
    "    pickle.dump(xgb_enhanced, file_1)"
   ]
  },
  {
   "cell_type": "markdown",
   "metadata": {},
   "source": [
    "# 10 MODEL INFERENCE"
   ]
  },
  {
   "cell_type": "markdown",
   "metadata": {},
   "source": [
    "Untuk melakukan tes model dengan data baru, dilakukan pembuatan data berdasarkan dari sample data raw."
   ]
  },
  {
   "cell_type": "code",
   "execution_count": 46,
   "metadata": {},
   "outputs": [
    {
     "data": {
      "text/html": [
       "<div>\n",
       "<style scoped>\n",
       "    .dataframe tbody tr th:only-of-type {\n",
       "        vertical-align: middle;\n",
       "    }\n",
       "\n",
       "    .dataframe tbody tr th {\n",
       "        vertical-align: top;\n",
       "    }\n",
       "\n",
       "    .dataframe thead th {\n",
       "        text-align: right;\n",
       "    }\n",
       "</style>\n",
       "<table border=\"1\" class=\"dataframe\">\n",
       "  <thead>\n",
       "    <tr style=\"text-align: right;\">\n",
       "      <th></th>\n",
       "      <th>id</th>\n",
       "      <th>category</th>\n",
       "      <th>title</th>\n",
       "      <th>body</th>\n",
       "      <th>amenities</th>\n",
       "      <th>bathrooms</th>\n",
       "      <th>bedrooms</th>\n",
       "      <th>currency</th>\n",
       "      <th>fee</th>\n",
       "      <th>has_photo</th>\n",
       "      <th>...</th>\n",
       "      <th>price_display</th>\n",
       "      <th>price_type</th>\n",
       "      <th>square_feet</th>\n",
       "      <th>address</th>\n",
       "      <th>cityname</th>\n",
       "      <th>state</th>\n",
       "      <th>latitude</th>\n",
       "      <th>longitude</th>\n",
       "      <th>source</th>\n",
       "      <th>time</th>\n",
       "    </tr>\n",
       "  </thead>\n",
       "  <tbody>\n",
       "    <tr>\n",
       "      <th>5256</th>\n",
       "      <td>5663111837</td>\n",
       "      <td>housing/rent/home</td>\n",
       "      <td>622 North Wayne Street, Apartment. A</td>\n",
       "      <td>Milledgeville STUCCO SIDING - DOWNTOWN WAYNE S...</td>\n",
       "      <td>AC,Cable or Satellite,Dishwasher,Internet Acce...</td>\n",
       "      <td>1.0</td>\n",
       "      <td>2.0</td>\n",
       "      <td>USD</td>\n",
       "      <td>No</td>\n",
       "      <td>Thumbnail</td>\n",
       "      <td>...</td>\n",
       "      <td>$625</td>\n",
       "      <td>Monthly</td>\n",
       "      <td>828</td>\n",
       "      <td>622 North Wayne St</td>\n",
       "      <td>Milledgeville</td>\n",
       "      <td>GA</td>\n",
       "      <td>33.0769</td>\n",
       "      <td>-83.3032</td>\n",
       "      <td>ListedBuy</td>\n",
       "      <td>1576878211</td>\n",
       "    </tr>\n",
       "    <tr>\n",
       "      <th>7272</th>\n",
       "      <td>5668631101</td>\n",
       "      <td>housing/rent/apartment</td>\n",
       "      <td>Two BR 4400 Old Court Road</td>\n",
       "      <td>This unit is located at 4400 Old Court Road, P...</td>\n",
       "      <td>NaN</td>\n",
       "      <td>2.0</td>\n",
       "      <td>2.0</td>\n",
       "      <td>USD</td>\n",
       "      <td>No</td>\n",
       "      <td>Thumbnail</td>\n",
       "      <td>...</td>\n",
       "      <td>$1,285</td>\n",
       "      <td>Monthly</td>\n",
       "      <td>1066</td>\n",
       "      <td>4400 Old CT Rd</td>\n",
       "      <td>Pikesville</td>\n",
       "      <td>MD</td>\n",
       "      <td>39.3776</td>\n",
       "      <td>-76.7060</td>\n",
       "      <td>RentLingo</td>\n",
       "      <td>1577359736</td>\n",
       "    </tr>\n",
       "    <tr>\n",
       "      <th>1323</th>\n",
       "      <td>5664596231</td>\n",
       "      <td>housing/rent/apartment</td>\n",
       "      <td>One BR 5720 66th Street</td>\n",
       "      <td>This unit is located at 5720 66th Street, Lubb...</td>\n",
       "      <td>NaN</td>\n",
       "      <td>1.0</td>\n",
       "      <td>1.0</td>\n",
       "      <td>USD</td>\n",
       "      <td>No</td>\n",
       "      <td>Thumbnail</td>\n",
       "      <td>...</td>\n",
       "      <td>$550</td>\n",
       "      <td>Monthly</td>\n",
       "      <td>542</td>\n",
       "      <td>5720 66th St</td>\n",
       "      <td>Lubbock</td>\n",
       "      <td>TX</td>\n",
       "      <td>33.5600</td>\n",
       "      <td>-101.8904</td>\n",
       "      <td>RentLingo</td>\n",
       "      <td>1577016962</td>\n",
       "    </tr>\n",
       "    <tr>\n",
       "      <th>4924</th>\n",
       "      <td>5664571420</td>\n",
       "      <td>housing/rent/apartment</td>\n",
       "      <td>Two BR 2114 Swift St.</td>\n",
       "      <td>This unit is located at 2114 Swift St., Kansas...</td>\n",
       "      <td>Dishwasher,Internet Access,Patio/Deck,Refriger...</td>\n",
       "      <td>1.0</td>\n",
       "      <td>2.0</td>\n",
       "      <td>USD</td>\n",
       "      <td>No</td>\n",
       "      <td>Thumbnail</td>\n",
       "      <td>...</td>\n",
       "      <td>$950</td>\n",
       "      <td>Monthly</td>\n",
       "      <td>800</td>\n",
       "      <td>2114 Swift St</td>\n",
       "      <td>Kansas City</td>\n",
       "      <td>MO</td>\n",
       "      <td>39.0744</td>\n",
       "      <td>-94.5521</td>\n",
       "      <td>RentLingo</td>\n",
       "      <td>1577015087</td>\n",
       "    </tr>\n",
       "    <tr>\n",
       "      <th>5845</th>\n",
       "      <td>5627574530</td>\n",
       "      <td>housing/rent/apartment</td>\n",
       "      <td>2 BR in Ellensburg WA 98926</td>\n",
       "      <td>---- SCHEDULE A SHOWING OUR WEB ADDRESS AT: Li...</td>\n",
       "      <td>Clubhouse,Dishwasher,Refrigerator,TV</td>\n",
       "      <td>2.0</td>\n",
       "      <td>2.0</td>\n",
       "      <td>USD</td>\n",
       "      <td>No</td>\n",
       "      <td>Thumbnail</td>\n",
       "      <td>...</td>\n",
       "      <td>$1,165</td>\n",
       "      <td>Monthly</td>\n",
       "      <td>890</td>\n",
       "      <td>NaN</td>\n",
       "      <td>Ellensburg</td>\n",
       "      <td>WA</td>\n",
       "      <td>47.0012</td>\n",
       "      <td>-120.5424</td>\n",
       "      <td>ListedBuy</td>\n",
       "      <td>1574983159</td>\n",
       "    </tr>\n",
       "  </tbody>\n",
       "</table>\n",
       "<p>5 rows × 22 columns</p>\n",
       "</div>"
      ],
      "text/plain": [
       "              id                category  \\\n",
       "5256  5663111837       housing/rent/home   \n",
       "7272  5668631101  housing/rent/apartment   \n",
       "1323  5664596231  housing/rent/apartment   \n",
       "4924  5664571420  housing/rent/apartment   \n",
       "5845  5627574530  housing/rent/apartment   \n",
       "\n",
       "                                     title  \\\n",
       "5256  622 North Wayne Street, Apartment. A   \n",
       "7272            Two BR 4400 Old Court Road   \n",
       "1323               One BR 5720 66th Street   \n",
       "4924                 Two BR 2114 Swift St.   \n",
       "5845           2 BR in Ellensburg WA 98926   \n",
       "\n",
       "                                                   body  \\\n",
       "5256  Milledgeville STUCCO SIDING - DOWNTOWN WAYNE S...   \n",
       "7272  This unit is located at 4400 Old Court Road, P...   \n",
       "1323  This unit is located at 5720 66th Street, Lubb...   \n",
       "4924  This unit is located at 2114 Swift St., Kansas...   \n",
       "5845  ---- SCHEDULE A SHOWING OUR WEB ADDRESS AT: Li...   \n",
       "\n",
       "                                              amenities  bathrooms  bedrooms  \\\n",
       "5256  AC,Cable or Satellite,Dishwasher,Internet Acce...        1.0       2.0   \n",
       "7272                                                NaN        2.0       2.0   \n",
       "1323                                                NaN        1.0       1.0   \n",
       "4924  Dishwasher,Internet Access,Patio/Deck,Refriger...        1.0       2.0   \n",
       "5845               Clubhouse,Dishwasher,Refrigerator,TV        2.0       2.0   \n",
       "\n",
       "     currency fee  has_photo  ... price_display  price_type square_feet  \\\n",
       "5256      USD  No  Thumbnail  ...          $625     Monthly         828   \n",
       "7272      USD  No  Thumbnail  ...        $1,285     Monthly        1066   \n",
       "1323      USD  No  Thumbnail  ...          $550     Monthly         542   \n",
       "4924      USD  No  Thumbnail  ...          $950     Monthly         800   \n",
       "5845      USD  No  Thumbnail  ...        $1,165     Monthly         890   \n",
       "\n",
       "                 address       cityname state latitude longitude     source  \\\n",
       "5256  622 North Wayne St  Milledgeville    GA  33.0769  -83.3032  ListedBuy   \n",
       "7272      4400 Old CT Rd     Pikesville    MD  39.3776  -76.7060  RentLingo   \n",
       "1323        5720 66th St        Lubbock    TX  33.5600 -101.8904  RentLingo   \n",
       "4924       2114 Swift St    Kansas City    MO  39.0744  -94.5521  RentLingo   \n",
       "5845                 NaN     Ellensburg    WA  47.0012 -120.5424  ListedBuy   \n",
       "\n",
       "            time  \n",
       "5256  1576878211  \n",
       "7272  1577359736  \n",
       "1323  1577016962  \n",
       "4924  1577015087  \n",
       "5845  1574983159  \n",
       "\n",
       "[5 rows x 22 columns]"
      ]
     },
     "execution_count": 46,
     "metadata": {},
     "output_type": "execute_result"
    }
   ],
   "source": [
    "# buat data sample dari data raw\n",
    "df_sample = raw.sample(n=5, random_state=69)\n",
    "df_sample"
   ]
  },
  {
   "cell_type": "code",
   "execution_count": 47,
   "metadata": {},
   "outputs": [
    {
     "data": {
      "text/html": [
       "<div>\n",
       "<style scoped>\n",
       "    .dataframe tbody tr th:only-of-type {\n",
       "        vertical-align: middle;\n",
       "    }\n",
       "\n",
       "    .dataframe tbody tr th {\n",
       "        vertical-align: top;\n",
       "    }\n",
       "\n",
       "    .dataframe thead th {\n",
       "        text-align: right;\n",
       "    }\n",
       "</style>\n",
       "<table border=\"1\" class=\"dataframe\">\n",
       "  <thead>\n",
       "    <tr style=\"text-align: right;\">\n",
       "      <th></th>\n",
       "      <th>Predicted Price</th>\n",
       "    </tr>\n",
       "  </thead>\n",
       "  <tbody>\n",
       "    <tr>\n",
       "      <th>0</th>\n",
       "      <td>1034.353882</td>\n",
       "    </tr>\n",
       "    <tr>\n",
       "      <th>1</th>\n",
       "      <td>1747.560913</td>\n",
       "    </tr>\n",
       "    <tr>\n",
       "      <th>2</th>\n",
       "      <td>814.527405</td>\n",
       "    </tr>\n",
       "    <tr>\n",
       "      <th>3</th>\n",
       "      <td>771.152039</td>\n",
       "    </tr>\n",
       "    <tr>\n",
       "      <th>4</th>\n",
       "      <td>1173.715820</td>\n",
       "    </tr>\n",
       "  </tbody>\n",
       "</table>\n",
       "</div>"
      ],
      "text/plain": [
       "   Predicted Price\n",
       "0      1034.353882\n",
       "1      1747.560913\n",
       "2       814.527405\n",
       "3       771.152039\n",
       "4      1173.715820"
      ]
     },
     "execution_count": 47,
     "metadata": {},
     "output_type": "execute_result"
    }
   ],
   "source": [
    "# lakukan inference data\n",
    "df_inference = xgb_enhanced.predict(df_sample)\n",
    "pd.DataFrame(df_inference,columns=['Predicted Price'])"
   ]
  },
  {
   "cell_type": "markdown",
   "metadata": {},
   "source": [
    "Model dapat berjalan dengan baik tanpa menimbulkan error dengan nilai prediksi yang dihasilkan telah ditampilkan pada dataframe di atas."
   ]
  },
  {
   "cell_type": "markdown",
   "metadata": {},
   "source": [
    "# 11 PENGAMBILAN KESIMPULAN"
   ]
  },
  {
   "cell_type": "markdown",
   "metadata": {},
   "source": [
    ">Dalam proses pembuatan model ini, dapat ditarik beberapa kesimpulan yaitu:\n",
    "- Dari 1 dataset perlu dilakukan pelatihan menggunakan beberapa algoritma untuk membandingkan langsung skor hasil pelatihannya.\n",
    "- Dari data properti untuk disewakan, harga sewa dipengaruhi oleh fitur-fitur yang tersedia yaitu `bathrooms`, `bedrooms`, `pets_allowed`, `price`, `square_feet`, `state`, `latitude` dan `longitude`.\n",
    "- Hasil pelatihan model menggunakan algoritma `XGBoost Regressor` memiliki skor `MAE 279.32` sehingga masuk kategori performa relatif baik.\n",
    "- Hubungan antara harga sewa dengan fitur numerik lainnya cenderung memiliki korelasi positif.\n",
    "- Harga sewa properti tertinggi berdasarkan fitur `pets_allowed` adalah yang mengizinkan anjing untuk masuk ke dalam properti dengan selisih nilai rata-rata sewanya yaitu USD 600.\n",
    "- Harga sewa properti tertinggi berada di negara bagian Hawaii diikuti California, sedangkan yang terendah berada di negara bagian South Dakota dan Wyoming."
   ]
  }
 ],
 "metadata": {
  "kernelspec": {
   "display_name": "base",
   "language": "python",
   "name": "python3"
  },
  "language_info": {
   "codemirror_mode": {
    "name": "ipython",
    "version": 3
   },
   "file_extension": ".py",
   "mimetype": "text/x-python",
   "name": "python",
   "nbconvert_exporter": "python",
   "pygments_lexer": "ipython3",
   "version": "3.9.20"
  }
 },
 "nbformat": 4,
 "nbformat_minor": 2
}
